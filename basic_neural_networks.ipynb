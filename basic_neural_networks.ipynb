{
 "cells": [
  {
   "cell_type": "code",
   "execution_count": 1,
   "metadata": {},
   "outputs": [],
   "source": [
    "import pandas as pd\n",
    "import numpy as np\n",
    "from sklearn.feature_extraction.text import CountVectorizer\n",
    "from sklearn.model_selection import train_test_split\n",
    "from sklearn.metrics import confusion_matrix, classification_report\n",
    "from sklearn.utils import class_weight"
   ]
  },
  {
   "cell_type": "code",
   "execution_count": 2,
   "metadata": {},
   "outputs": [
    {
     "data": {
      "text/html": [
       "<div>\n",
       "<style scoped>\n",
       "    .dataframe tbody tr th:only-of-type {\n",
       "        vertical-align: middle;\n",
       "    }\n",
       "\n",
       "    .dataframe tbody tr th {\n",
       "        vertical-align: top;\n",
       "    }\n",
       "\n",
       "    .dataframe thead th {\n",
       "        text-align: right;\n",
       "    }\n",
       "</style>\n",
       "<table border=\"1\" class=\"dataframe\">\n",
       "  <thead>\n",
       "    <tr style=\"text-align: right;\">\n",
       "      <th></th>\n",
       "      <th>sentence</th>\n",
       "      <th>prediction</th>\n",
       "    </tr>\n",
       "  </thead>\n",
       "  <tbody>\n",
       "    <tr>\n",
       "      <th>0</th>\n",
       "      <td>twitter prior musk takeover talking directly n...</td>\n",
       "      <td>1</td>\n",
       "    </tr>\n",
       "    <tr>\n",
       "      <th>1</th>\n",
       "      <td>article say imply states feature turns crashes...</td>\n",
       "      <td>1</td>\n",
       "    </tr>\n",
       "    <tr>\n",
       "      <th>2</th>\n",
       "      <td>og musk duck lives wall</td>\n",
       "      <td>1</td>\n",
       "    </tr>\n",
       "    <tr>\n",
       "      <th>3</th>\n",
       "      <td>dare_speak way great powerful musk obviously d...</td>\n",
       "      <td>1</td>\n",
       "    </tr>\n",
       "    <tr>\n",
       "      <th>4</th>\n",
       "      <td>cannot_wait finally excuse shower douche</td>\n",
       "      <td>1</td>\n",
       "    </tr>\n",
       "  </tbody>\n",
       "</table>\n",
       "</div>"
      ],
      "text/plain": [
       "                                            sentence  prediction\n",
       "0  twitter prior musk takeover talking directly n...           1\n",
       "1  article say imply states feature turns crashes...           1\n",
       "2                            og musk duck lives wall           1\n",
       "3  dare_speak way great powerful musk obviously d...           1\n",
       "4           cannot_wait finally excuse shower douche           1"
      ]
     },
     "execution_count": 2,
     "metadata": {},
     "output_type": "execute_result"
    }
   ],
   "source": [
    "df = pd.read_csv('labeled_data.csv', index_col=0)\n",
    "df.head(5)"
   ]
  },
  {
   "cell_type": "code",
   "execution_count": 3,
   "metadata": {},
   "outputs": [],
   "source": [
    "df.dropna(inplace=True)\n",
    "df.drop_duplicates(inplace=True)"
   ]
  },
  {
   "cell_type": "code",
   "execution_count": 4,
   "metadata": {},
   "outputs": [
    {
     "name": "stdout",
     "output_type": "stream",
     "text": [
      "1: 0.9035761589403973\n",
      "0: 0.09642384105960265\n"
     ]
    }
   ],
   "source": [
    "for label, count in dict(df['prediction'].value_counts()).items():\n",
    "    print(f'{label}: {count / df.shape[0]}')"
   ]
  },
  {
   "cell_type": "code",
   "execution_count": 5,
   "metadata": {},
   "outputs": [],
   "source": [
    "df['prediction'] = df['prediction'].astype('int8')"
   ]
  },
  {
   "cell_type": "code",
   "execution_count": 6,
   "metadata": {},
   "outputs": [
    {
     "data": {
      "text/plain": [
       "(5824, 2)"
      ]
     },
     "execution_count": 6,
     "metadata": {},
     "output_type": "execute_result"
    }
   ],
   "source": [
    "df[df['prediction'] == 0].shape"
   ]
  },
  {
   "cell_type": "code",
   "execution_count": 7,
   "metadata": {},
   "outputs": [
    {
     "data": {
      "text/plain": [
       "(15824, 2)"
      ]
     },
     "execution_count": 7,
     "metadata": {},
     "output_type": "execute_result"
    }
   ],
   "source": [
    "# limit the dataset to fit in memory\n",
    "limited_df = pd.concat([df[df['prediction'] == 0], df[df['prediction'] == 1][:10000]])\n",
    "limited_df.shape"
   ]
  },
  {
   "cell_type": "code",
   "execution_count": 8,
   "metadata": {},
   "outputs": [
    {
     "data": {
      "text/html": [
       "<div>\n",
       "<style scoped>\n",
       "    .dataframe tbody tr th:only-of-type {\n",
       "        vertical-align: middle;\n",
       "    }\n",
       "\n",
       "    .dataframe tbody tr th {\n",
       "        vertical-align: top;\n",
       "    }\n",
       "\n",
       "    .dataframe thead th {\n",
       "        text-align: right;\n",
       "    }\n",
       "</style>\n",
       "<table border=\"1\" class=\"dataframe\">\n",
       "  <thead>\n",
       "    <tr style=\"text-align: right;\">\n",
       "      <th></th>\n",
       "      <th>sentence</th>\n",
       "      <th>prediction</th>\n",
       "    </tr>\n",
       "  </thead>\n",
       "  <tbody>\n",
       "    <tr>\n",
       "      <th>102</th>\n",
       "      <td>vaguely elon_musk aligned clickbait rich - guy</td>\n",
       "      <td>1</td>\n",
       "    </tr>\n",
       "    <tr>\n",
       "      <th>4870</th>\n",
       "      <td>context calling musk bully</td>\n",
       "      <td>1</td>\n",
       "    </tr>\n",
       "    <tr>\n",
       "      <th>3320</th>\n",
       "      <td>dm_matter old may open good ideas good referen...</td>\n",
       "      <td>0</td>\n",
       "    </tr>\n",
       "    <tr>\n",
       "      <th>700</th>\n",
       "      <td>tl_; dr : maybe really understand point podcas...</td>\n",
       "      <td>1</td>\n",
       "    </tr>\n",
       "    <tr>\n",
       "      <th>5335</th>\n",
       "      <td>musk become fat oligarch</td>\n",
       "      <td>1</td>\n",
       "    </tr>\n",
       "  </tbody>\n",
       "</table>\n",
       "</div>"
      ],
      "text/plain": [
       "                                               sentence  prediction\n",
       "102      vaguely elon_musk aligned clickbait rich - guy           1\n",
       "4870                         context calling musk bully           1\n",
       "3320  dm_matter old may open good ideas good referen...           0\n",
       "700   tl_; dr : maybe really understand point podcas...           1\n",
       "5335                           musk become fat oligarch           1"
      ]
     },
     "execution_count": 8,
     "metadata": {},
     "output_type": "execute_result"
    }
   ],
   "source": [
    "limited_df.sample(5)"
   ]
  },
  {
   "cell_type": "code",
   "execution_count": 9,
   "metadata": {},
   "outputs": [],
   "source": [
    "x_train, x_test, y_train, y_test = train_test_split(\n",
    "    limited_df['sentence'], limited_df['prediction'], test_size=0.1, stratify=limited_df['prediction'])\n",
    "\n",
    "x_train, x_val, y_train, y_val = train_test_split(\n",
    "    x_train, y_train, test_size=0.33, stratify=y_train\n",
    ")"
   ]
  },
  {
   "cell_type": "code",
   "execution_count": 10,
   "metadata": {},
   "outputs": [
    {
     "name": "stdout",
     "output_type": "stream",
     "text": [
      "1: 0.6317119393556538\n",
      "0: 0.36828806064434616\n"
     ]
    }
   ],
   "source": [
    "for label, count in dict(y_test.value_counts()).items():\n",
    "    print(f'{label}: {count / y_test.shape[0]}')"
   ]
  },
  {
   "cell_type": "code",
   "execution_count": 11,
   "metadata": {},
   "outputs": [
    {
     "name": "stdout",
     "output_type": "stream",
     "text": [
      "1: 0.6319148936170212\n",
      "0: 0.3680851063829787\n"
     ]
    }
   ],
   "source": [
    "for label, count in dict(y_val.value_counts()).items():\n",
    "    print(f'{label}: {count / y_val.shape[0]}')"
   ]
  },
  {
   "cell_type": "code",
   "execution_count": 12,
   "metadata": {},
   "outputs": [
    {
     "name": "stdout",
     "output_type": "stream",
     "text": [
      "1: 0.6317119393556538\n",
      "0: 0.36828806064434616\n"
     ]
    }
   ],
   "source": [
    "for label, count in dict(y_test.value_counts()).items():\n",
    "    print(f'{label}: {count / y_test.shape[0]}')"
   ]
  },
  {
   "cell_type": "code",
   "execution_count": 13,
   "metadata": {},
   "outputs": [
    {
     "data": {
      "text/plain": [
       "(1    6030\n",
       " 0    3511\n",
       " Name: prediction, dtype: int64,\n",
       " 1    2970\n",
       " 0    1730\n",
       " Name: prediction, dtype: int64,\n",
       " 1    1000\n",
       " 0     583\n",
       " Name: prediction, dtype: int64)"
      ]
     },
     "execution_count": 13,
     "metadata": {},
     "output_type": "execute_result"
    }
   ],
   "source": [
    "y_train.value_counts(), y_val.value_counts(), y_test.value_counts()"
   ]
  },
  {
   "cell_type": "code",
   "execution_count": 14,
   "metadata": {},
   "outputs": [],
   "source": [
    "MAX_FEATURES = 5000\n",
    "\n",
    "count_vec = CountVectorizer(max_features=MAX_FEATURES, min_df=5)\n",
    "x_train = count_vec.fit_transform(x_train).toarray()\n",
    "x_val = count_vec.transform(x_val).toarray()\n",
    "x_test = count_vec.transform(x_test).toarray()"
   ]
  },
  {
   "cell_type": "code",
   "execution_count": 15,
   "metadata": {},
   "outputs": [],
   "source": [
    "import tensorflow as tf\n",
    "\n",
    "with tf.device('/cpu:0'):\n",
    "    x_train = tf.convert_to_tensor(x_train, np.int8)\n",
    "    x_val = tf.convert_to_tensor(x_val, np.int8)\n",
    "    x_test = tf.convert_to_tensor(x_test, np.int8)"
   ]
  },
  {
   "cell_type": "code",
   "execution_count": 16,
   "metadata": {},
   "outputs": [
    {
     "data": {
      "text/plain": [
       "TensorShape([9541, 5000])"
      ]
     },
     "execution_count": 16,
     "metadata": {},
     "output_type": "execute_result"
    }
   ],
   "source": [
    "x_train.shape"
   ]
  },
  {
   "cell_type": "code",
   "execution_count": 17,
   "metadata": {},
   "outputs": [],
   "source": [
    "from keras.layers import Dense, Dropout, LSTM\n",
    "from keras.models import Model, Sequential\n",
    "from keras.callbacks import EarlyStopping\n",
    "from keras.metrics import Recall\n",
    "\n",
    "early_stopping = EarlyStopping(patience=5, restore_best_weights=True)"
   ]
  },
  {
   "cell_type": "code",
   "execution_count": 18,
   "metadata": {},
   "outputs": [
    {
     "data": {
      "text/plain": [
       "{0: 1.358729706636286, 1: 0.7911276948590381}"
      ]
     },
     "execution_count": 18,
     "metadata": {},
     "output_type": "execute_result"
    }
   ],
   "source": [
    "class_weights = class_weight.compute_class_weight('balanced', classes=np.unique(y_train), y=y_train)\n",
    "class_weights = dict(zip(np.unique(y_train), class_weights))\n",
    "class_weights"
   ]
  },
  {
   "cell_type": "code",
   "execution_count": 19,
   "metadata": {},
   "outputs": [],
   "source": [
    "from keras.backend import clear_session\n",
    "\n",
    "EPOCHS = 25\n",
    "BATCH_SIZE = 8\n",
    "\n",
    "def compile_and_fit_model(model: Model, model_name: str):\n",
    "    clear_session()\n",
    "\n",
    "    model.compile(\n",
    "        optimizer='adam',\n",
    "        loss='binary_crossentropy',\n",
    "        metrics=['accuracy', Recall()]  # class imbalance\n",
    "    )\n",
    "\n",
    "    model_history = model.fit(\n",
    "        x_train, y_train,\n",
    "        validation_data=(x_val, y_val),\n",
    "        epochs=EPOCHS,\n",
    "        batch_size=BATCH_SIZE,\n",
    "        callbacks=[early_stopping],\n",
    "        class_weight=class_weights\n",
    "    )\n",
    "\n",
    "    model.save(model_name + '.h5')\n",
    "\n",
    "    return model_history.history"
   ]
  },
  {
   "cell_type": "code",
   "execution_count": 20,
   "metadata": {},
   "outputs": [],
   "source": [
    "def display_confusion_matrix(model_prediction):\n",
    "    model_prediction = np.argmax(model_prediction, axis=1)\n",
    "    print(confusion_matrix(y_test, model_prediction, normalize='pred'))"
   ]
  },
  {
   "cell_type": "code",
   "execution_count": 21,
   "metadata": {},
   "outputs": [],
   "source": [
    "def display_classification_report(model_prediction):\n",
    "    model_prediction = np.argmax(model_prediction, axis=1)\n",
    "    print(classification_report(y_test, model_prediction, zero_division=0))"
   ]
  },
  {
   "cell_type": "code",
   "execution_count": 22,
   "metadata": {},
   "outputs": [],
   "source": [
    "def display_model_results(model: Model):\n",
    "    prediction = model.predict(x_test)\n",
    "\n",
    "    print('Confussion matrix:')\n",
    "    display_confusion_matrix(prediction)\n",
    "    \n",
    "    print('\\nClassification report:')\n",
    "    display_classification_report(prediction)\n",
    "\n",
    "    print('\\nModel evaluation on test data [loss, accuracy, recall]:')\n",
    "    print(model.evaluate(x_test, y_test))"
   ]
  },
  {
   "cell_type": "code",
   "execution_count": 23,
   "metadata": {},
   "outputs": [
    {
     "name": "stdout",
     "output_type": "stream",
     "text": [
      "Epoch 1/25\n",
      "1193/1193 [==============================] - 7s 4ms/step - loss: 0.2949 - accuracy: 0.8920 - recall: 0.9201 - val_loss: 0.2361 - val_accuracy: 0.9081 - val_recall: 0.9084\n",
      "Epoch 2/25\n",
      "1193/1193 [==============================] - 4s 4ms/step - loss: 0.1260 - accuracy: 0.9473 - recall: 0.9489 - val_loss: 0.2984 - val_accuracy: 0.9157 - val_recall: 0.9279\n",
      "Epoch 3/25\n",
      "1193/1193 [==============================] - 4s 4ms/step - loss: 0.0622 - accuracy: 0.9705 - recall: 0.9653 - val_loss: 0.5366 - val_accuracy: 0.9077 - val_recall: 0.9044\n",
      "Epoch 4/25\n",
      "1193/1193 [==============================] - 4s 4ms/step - loss: 0.0522 - accuracy: 0.9755 - recall: 0.9680 - val_loss: 0.6225 - val_accuracy: 0.9119 - val_recall: 0.9286\n",
      "Epoch 5/25\n",
      "1193/1193 [==============================] - 4s 4ms/step - loss: 0.0355 - accuracy: 0.9801 - recall: 0.9715 - val_loss: 0.6380 - val_accuracy: 0.9115 - val_recall: 0.9293\n",
      "Epoch 6/25\n",
      "1193/1193 [==============================] - 4s 4ms/step - loss: 0.0303 - accuracy: 0.9819 - recall: 0.9735 - val_loss: 0.9270 - val_accuracy: 0.9077 - val_recall: 0.9111\n"
     ]
    }
   ],
   "source": [
    "dense_model1 = Sequential([\n",
    "    Dense(256, activation='relu'),\n",
    "    Dense(128, activation='relu'),\n",
    "    Dense(64, activation='relu'),\n",
    "    Dense(32, activation='relu'),\n",
    "    Dense(16, activation='relu'),\n",
    "    Dense(1, activation='sigmoid'),\n",
    "])\n",
    "\n",
    "dense_model1_history = compile_and_fit_model(dense_model1, 'dense_model1')"
   ]
  },
  {
   "cell_type": "code",
   "execution_count": 24,
   "metadata": {},
   "outputs": [
    {
     "name": "stdout",
     "output_type": "stream",
     "text": [
      "50/50 [==============================] - 0s 861us/step\n",
      "Confussion matrix:\n",
      "[[0.36828806 0.        ]\n",
      " [0.63171194 0.        ]]\n",
      "\n",
      "Classification report:\n",
      "              precision    recall  f1-score   support\n",
      "\n",
      "           0       0.37      1.00      0.54       583\n",
      "           1       0.00      0.00      0.00      1000\n",
      "\n",
      "    accuracy                           0.37      1583\n",
      "   macro avg       0.18      0.50      0.27      1583\n",
      "weighted avg       0.14      0.37      0.20      1583\n",
      "\n",
      "\n",
      "Model evaluation on test data [loss, accuracy, recall]:\n",
      "50/50 [==============================] - 0s 2ms/step - loss: 0.2279 - accuracy: 0.9109 - recall: 0.9150\n",
      "[0.22786106169223785, 0.9109286069869995, 0.9150000214576721]\n"
     ]
    }
   ],
   "source": [
    "display_model_results(dense_model1)"
   ]
  },
  {
   "cell_type": "code",
   "execution_count": 25,
   "metadata": {},
   "outputs": [
    {
     "name": "stdout",
     "output_type": "stream",
     "text": [
      "Epoch 1/25\n",
      "1193/1193 [==============================] - 6s 4ms/step - loss: 0.3038 - accuracy: 0.8828 - recall: 0.8964 - val_loss: 0.2419 - val_accuracy: 0.9149 - val_recall: 0.9316\n",
      "Epoch 2/25\n",
      "1193/1193 [==============================] - 5s 4ms/step - loss: 0.1257 - accuracy: 0.9503 - recall: 0.9532 - val_loss: 0.3182 - val_accuracy: 0.9187 - val_recall: 0.9455\n",
      "Epoch 3/25\n",
      "1193/1193 [==============================] - 4s 4ms/step - loss: 0.0649 - accuracy: 0.9708 - recall: 0.9680 - val_loss: 0.5739 - val_accuracy: 0.9126 - val_recall: 0.9471\n",
      "Epoch 4/25\n",
      "1193/1193 [==============================] - 5s 4ms/step - loss: 0.0483 - accuracy: 0.9773 - recall: 0.9698 - val_loss: 0.5764 - val_accuracy: 0.9123 - val_recall: 0.9620\n",
      "Epoch 5/25\n",
      "1193/1193 [==============================] - 5s 4ms/step - loss: 0.0446 - accuracy: 0.9785 - recall: 0.9720 - val_loss: 0.8806 - val_accuracy: 0.9055 - val_recall: 0.9232\n",
      "Epoch 6/25\n",
      "1193/1193 [==============================] - 5s 4ms/step - loss: 0.0309 - accuracy: 0.9809 - recall: 0.9735 - val_loss: 1.5842 - val_accuracy: 0.9064 - val_recall: 0.9165\n"
     ]
    }
   ],
   "source": [
    "dense_model2 = Sequential([\n",
    "    Dense(512, activation='relu'),\n",
    "    Dense(256, activation='relu'),\n",
    "    Dense(128, activation='relu'),\n",
    "    Dense(64, activation='relu'),\n",
    "    Dense(32, activation='relu'),\n",
    "    Dense(16, activation='relu'),\n",
    "    Dense(1, activation='sigmoid'),\n",
    "])\n",
    "\n",
    "dense_model2_history = compile_and_fit_model(dense_model2, 'dense_model2')"
   ]
  },
  {
   "cell_type": "code",
   "execution_count": 26,
   "metadata": {},
   "outputs": [
    {
     "name": "stdout",
     "output_type": "stream",
     "text": [
      "50/50 [==============================] - 0s 985us/step\n",
      "Confussion matrix:\n",
      "[[0.36828806 0.        ]\n",
      " [0.63171194 0.        ]]\n",
      "\n",
      "Classification report:\n",
      "              precision    recall  f1-score   support\n",
      "\n",
      "           0       0.37      1.00      0.54       583\n",
      "           1       0.00      0.00      0.00      1000\n",
      "\n",
      "    accuracy                           0.37      1583\n",
      "   macro avg       0.18      0.50      0.27      1583\n",
      "weighted avg       0.14      0.37      0.20      1583\n",
      "\n",
      "\n",
      "Model evaluation on test data [loss, accuracy, recall]:\n",
      "50/50 [==============================] - 0s 2ms/step - loss: 0.2184 - accuracy: 0.9172 - recall: 0.9380\n",
      "[0.2183535099029541, 0.9172457456588745, 0.9380000233650208]\n"
     ]
    }
   ],
   "source": [
    "display_model_results(dense_model2)"
   ]
  },
  {
   "cell_type": "code",
   "execution_count": 27,
   "metadata": {},
   "outputs": [
    {
     "name": "stdout",
     "output_type": "stream",
     "text": [
      "Epoch 1/25\n",
      "1193/1193 [==============================] - 6s 4ms/step - loss: 0.3013 - accuracy: 0.8903 - recall: 0.9040 - val_loss: 0.2636 - val_accuracy: 0.9126 - val_recall: 0.9118\n",
      "Epoch 2/25\n",
      "1193/1193 [==============================] - 5s 4ms/step - loss: 0.1236 - accuracy: 0.9501 - recall: 0.9556 - val_loss: 0.2875 - val_accuracy: 0.9151 - val_recall: 0.9202\n",
      "Epoch 3/25\n",
      "1193/1193 [==============================] - 5s 4ms/step - loss: 0.0682 - accuracy: 0.9705 - recall: 0.9682 - val_loss: 0.5676 - val_accuracy: 0.9070 - val_recall: 0.9088\n",
      "Epoch 4/25\n",
      "1193/1193 [==============================] - 5s 4ms/step - loss: 0.0443 - accuracy: 0.9762 - recall: 0.9682 - val_loss: 0.7531 - val_accuracy: 0.9130 - val_recall: 0.9212\n",
      "Epoch 5/25\n",
      "1193/1193 [==============================] - 4s 3ms/step - loss: 0.0341 - accuracy: 0.9800 - recall: 0.9728 - val_loss: 1.1528 - val_accuracy: 0.8977 - val_recall: 0.8822\n",
      "Epoch 6/25\n",
      "1193/1193 [==============================] - 4s 3ms/step - loss: 0.0334 - accuracy: 0.9829 - recall: 0.9769 - val_loss: 1.5708 - val_accuracy: 0.9106 - val_recall: 0.9239\n"
     ]
    }
   ],
   "source": [
    "dense_model3 = Sequential([\n",
    "    Dense(512, activation='relu'),\n",
    "    Dense(256, activation='relu'),\n",
    "    Dense(128, activation='relu'),\n",
    "    Dense(64, activation='relu'),\n",
    "    Dropout(0.3),\n",
    "    Dense(32, activation='relu'),\n",
    "    Dense(16, activation='relu'),\n",
    "    Dense(1, activation='sigmoid')\n",
    "])\n",
    "\n",
    "dense_model3_history = compile_and_fit_model(dense_model3, 'dense_model3')"
   ]
  },
  {
   "cell_type": "code",
   "execution_count": 28,
   "metadata": {},
   "outputs": [
    {
     "name": "stdout",
     "output_type": "stream",
     "text": [
      "50/50 [==============================] - 0s 831us/step\n",
      "Confussion matrix:\n",
      "[[0.36828806 0.        ]\n",
      " [0.63171194 0.        ]]\n",
      "\n",
      "Classification report:\n",
      "              precision    recall  f1-score   support\n",
      "\n",
      "           0       0.37      1.00      0.54       583\n",
      "           1       0.00      0.00      0.00      1000\n",
      "\n",
      "    accuracy                           0.37      1583\n",
      "   macro avg       0.18      0.50      0.27      1583\n",
      "weighted avg       0.14      0.37      0.20      1583\n",
      "\n",
      "\n",
      "Model evaluation on test data [loss, accuracy, recall]:\n",
      "50/50 [==============================] - 0s 1ms/step - loss: 0.2491 - accuracy: 0.9097 - recall: 0.9100\n",
      "[0.24906308948993683, 0.9096651673316956, 0.9100000262260437]\n"
     ]
    }
   ],
   "source": [
    "display_model_results(dense_model3)"
   ]
  },
  {
   "cell_type": "code",
   "execution_count": 40,
   "metadata": {},
   "outputs": [],
   "source": [
    "from keras.preprocessing.text import Tokenizer\n",
    "from keras.utils import pad_sequences\n",
    "\n",
    "tokenizer = Tokenizer(num_words=MAX_FEATURES, split=' ')\n",
    "tokenizer.fit_on_texts(limited_df['sentence'].values)\n",
    "X = tokenizer.texts_to_sequences(limited_df['sentence'].values)\n",
    "X = pad_sequences(X, maxlen=MAX_FEATURES, padding='post')"
   ]
  },
  {
   "cell_type": "code",
   "execution_count": 41,
   "metadata": {},
   "outputs": [],
   "source": [
    "x_train, x_test, y_train, y_test = train_test_split(\n",
    "    X, limited_df['prediction'], test_size=0.1, stratify=limited_df['prediction'])\n",
    "\n",
    "x_train, x_val, y_train, y_val = train_test_split(\n",
    "    x_train, y_train, test_size=0.33, stratify=y_train)"
   ]
  },
  {
   "cell_type": "code",
   "execution_count": 42,
   "metadata": {},
   "outputs": [],
   "source": [
    "with tf.device('/cpu:0'):\n",
    "    x_train = tf.convert_to_tensor(x_train, np.int32)\n",
    "    x_val = tf.convert_to_tensor(x_val, np.int32)\n",
    "    x_test = tf.convert_to_tensor(x_test, np.int32)"
   ]
  },
  {
   "cell_type": "code",
   "execution_count": 43,
   "metadata": {},
   "outputs": [],
   "source": [
    "embedding_dimension = 64\n",
    "lstm_output = 64"
   ]
  },
  {
   "cell_type": "code",
   "execution_count": 45,
   "metadata": {},
   "outputs": [
    {
     "name": "stdout",
     "output_type": "stream",
     "text": [
      "Epoch 1/25\n",
      "1193/1193 [==============================] - 181s 150ms/step - loss: 0.6937 - accuracy: 0.4786 - recall: 0.4355 - val_loss: 0.6934 - val_accuracy: 0.3681 - val_recall: 0.0000e+00\n",
      "Epoch 2/25\n",
      "1193/1193 [==============================] - 157s 132ms/step - loss: 0.6932 - accuracy: 0.4515 - recall: 0.3083 - val_loss: 0.6810 - val_accuracy: 0.6319 - val_recall: 1.0000\n",
      "Epoch 3/25\n",
      "1193/1193 [==============================] - 161s 135ms/step - loss: 0.6935 - accuracy: 0.5607 - recall: 0.7254 - val_loss: 0.6929 - val_accuracy: 0.6319 - val_recall: 1.0000\n",
      "Epoch 4/25\n",
      "1193/1193 [==============================] - 166s 140ms/step - loss: 0.6933 - accuracy: 0.5125 - recall: 0.5584 - val_loss: 0.6924 - val_accuracy: 0.6319 - val_recall: 1.0000\n",
      "Epoch 5/25\n",
      "1193/1193 [==============================] - 167s 140ms/step - loss: 0.6933 - accuracy: 0.5264 - recall: 0.5887 - val_loss: 0.6907 - val_accuracy: 0.6319 - val_recall: 1.0000\n",
      "Epoch 6/25\n",
      "1193/1193 [==============================] - 161s 135ms/step - loss: 0.6933 - accuracy: 0.5321 - recall: 0.6163 - val_loss: 0.6940 - val_accuracy: 0.3681 - val_recall: 0.0000e+00\n",
      "Epoch 7/25\n",
      "1193/1193 [==============================] - 161s 135ms/step - loss: 0.6933 - accuracy: 0.4974 - recall: 0.5194 - val_loss: 0.6937 - val_accuracy: 0.3681 - val_recall: 0.0000e+00\n"
     ]
    }
   ],
   "source": [
    "from keras.layers import Embedding\n",
    "\n",
    "lstm_model1 = Sequential([\n",
    "    Embedding(MAX_FEATURES, embedding_dimension, input_length=X.shape[1]),\n",
    "    LSTM(lstm_output, dropout=0.2),\n",
    "    Dense(1, activation='sigmoid')\n",
    "])\n",
    "\n",
    "lstm_model1_history = compile_and_fit_model(lstm_model1, 'lstm_model1')"
   ]
  },
  {
   "cell_type": "code",
   "execution_count": 46,
   "metadata": {},
   "outputs": [
    {
     "name": "stdout",
     "output_type": "stream",
     "text": [
      "50/50 [==============================] - 3s 48ms/step\n",
      "Confussion matrix:\n",
      "[[0.36828806 0.        ]\n",
      " [0.63171194 0.        ]]\n",
      "\n",
      "Classification report:\n",
      "              precision    recall  f1-score   support\n",
      "\n",
      "           0       0.37      1.00      0.54       583\n",
      "           1       0.00      0.00      0.00      1000\n",
      "\n",
      "    accuracy                           0.37      1583\n",
      "   macro avg       0.18      0.50      0.27      1583\n",
      "weighted avg       0.14      0.37      0.20      1583\n",
      "\n",
      "\n",
      "Model evaluation on test data [loss, accuracy, recall]:\n",
      "50/50 [==============================] - 3s 58ms/step - loss: 0.6810 - accuracy: 0.6317 - recall: 1.0000\n",
      "[0.6810417771339417, 0.6317119598388672, 1.0]\n"
     ]
    }
   ],
   "source": [
    "display_model_results(lstm_model1)"
   ]
  },
  {
   "cell_type": "code",
   "execution_count": 47,
   "metadata": {},
   "outputs": [
    {
     "name": "stdout",
     "output_type": "stream",
     "text": [
      "Epoch 1/25\n",
      "1193/1193 [==============================] - 329s 275ms/step - loss: 0.2716 - accuracy: 0.8944 - recall: 0.9114 - val_loss: 0.1947 - val_accuracy: 0.9281 - val_recall: 0.9418\n",
      "Epoch 2/25\n",
      "1193/1193 [==============================] - 296s 248ms/step - loss: 0.1432 - accuracy: 0.9499 - recall: 0.9575 - val_loss: 0.1952 - val_accuracy: 0.9264 - val_recall: 0.9505\n",
      "Epoch 3/25\n",
      "1193/1193 [==============================] - 285s 239ms/step - loss: 0.1023 - accuracy: 0.9637 - recall: 0.9660 - val_loss: 0.2024 - val_accuracy: 0.9262 - val_recall: 0.9498\n",
      "Epoch 4/25\n",
      "1193/1193 [==============================] - 292s 245ms/step - loss: 0.0738 - accuracy: 0.9746 - recall: 0.9751 - val_loss: 0.2359 - val_accuracy: 0.9194 - val_recall: 0.9226\n",
      "Epoch 5/25\n",
      "1193/1193 [==============================] - 289s 242ms/step - loss: 0.0556 - accuracy: 0.9791 - recall: 0.9793 - val_loss: 0.2829 - val_accuracy: 0.9249 - val_recall: 0.9320\n",
      "Epoch 6/25\n",
      "1193/1193 [==============================] - 299s 251ms/step - loss: 0.0508 - accuracy: 0.9810 - recall: 0.9791 - val_loss: 0.2836 - val_accuracy: 0.9200 - val_recall: 0.9323\n"
     ]
    }
   ],
   "source": [
    "from keras.layers import Bidirectional\n",
    "\n",
    "lstm_model2 = Sequential([\n",
    "    Embedding(MAX_FEATURES, embedding_dimension, input_length=X.shape[1]),\n",
    "    Bidirectional(LSTM(lstm_output, dropout=0.2)),\n",
    "    Dense(1, activation='sigmoid')\n",
    "])\n",
    "\n",
    "lstm_model2_history = compile_and_fit_model(lstm_model2, 'lstm_model2')"
   ]
  },
  {
   "cell_type": "code",
   "execution_count": 48,
   "metadata": {},
   "outputs": [
    {
     "name": "stdout",
     "output_type": "stream",
     "text": [
      "50/50 [==============================] - 5s 98ms/step\n",
      "Confussion matrix:\n",
      "[[0.36828806 0.        ]\n",
      " [0.63171194 0.        ]]\n",
      "\n",
      "Classification report:\n",
      "              precision    recall  f1-score   support\n",
      "\n",
      "           0       0.37      1.00      0.54       583\n",
      "           1       0.00      0.00      0.00      1000\n",
      "\n",
      "    accuracy                           0.37      1583\n",
      "   macro avg       0.18      0.50      0.27      1583\n",
      "weighted avg       0.14      0.37      0.20      1583\n",
      "\n",
      "\n",
      "Model evaluation on test data [loss, accuracy, recall]:\n",
      "50/50 [==============================] - 5s 106ms/step - loss: 0.1796 - accuracy: 0.9223 - recall: 0.9380\n",
      "[0.1795957386493683, 0.9222994446754456, 0.9380000233650208]\n"
     ]
    }
   ],
   "source": [
    "display_model_results(lstm_model2)"
   ]
  },
  {
   "cell_type": "code",
   "execution_count": 49,
   "metadata": {},
   "outputs": [],
   "source": [
    "embedding_dimension = 96\n",
    "lstm_output = 128"
   ]
  },
  {
   "cell_type": "code",
   "execution_count": 50,
   "metadata": {},
   "outputs": [
    {
     "name": "stdout",
     "output_type": "stream",
     "text": [
      "Epoch 1/25\n",
      "1193/1193 [==============================] - 356s 297ms/step - loss: 0.2897 - accuracy: 0.8908 - recall: 0.9090 - val_loss: 0.1920 - val_accuracy: 0.9262 - val_recall: 0.9384\n",
      "Epoch 2/25\n",
      "1193/1193 [==============================] - 332s 278ms/step - loss: 0.1465 - accuracy: 0.9505 - recall: 0.9580 - val_loss: 0.2137 - val_accuracy: 0.9281 - val_recall: 0.9357\n",
      "Epoch 3/25\n",
      "1193/1193 [==============================] - 332s 279ms/step - loss: 0.1061 - accuracy: 0.9644 - recall: 0.9692 - val_loss: 0.2013 - val_accuracy: 0.9251 - val_recall: 0.9444\n",
      "Epoch 4/25\n",
      "1193/1193 [==============================] - 330s 276ms/step - loss: 0.0799 - accuracy: 0.9707 - recall: 0.9731 - val_loss: 0.2379 - val_accuracy: 0.9236 - val_recall: 0.9340\n",
      "Epoch 5/25\n",
      "1193/1193 [==============================] - 339s 284ms/step - loss: 0.0678 - accuracy: 0.9751 - recall: 0.9758 - val_loss: 0.2654 - val_accuracy: 0.9143 - val_recall: 0.9189\n",
      "Epoch 6/25\n",
      "1193/1193 [==============================] - 333s 279ms/step - loss: 0.0506 - accuracy: 0.9812 - recall: 0.9808 - val_loss: 0.3062 - val_accuracy: 0.9160 - val_recall: 0.9138\n"
     ]
    }
   ],
   "source": [
    "lstm_model3 = Sequential([\n",
    "    Embedding(MAX_FEATURES, embedding_dimension, input_length=X.shape[1]),\n",
    "    Bidirectional(LSTM(lstm_output, dropout=0.2)),\n",
    "    Dense(1, activation='sigmoid')\n",
    "])\n",
    "\n",
    "lstm_model3_history = compile_and_fit_model(lstm_model3, 'lstm_model3')"
   ]
  },
  {
   "cell_type": "code",
   "execution_count": 51,
   "metadata": {},
   "outputs": [
    {
     "name": "stdout",
     "output_type": "stream",
     "text": [
      "50/50 [==============================] - 6s 104ms/step\n",
      "Confussion matrix:\n",
      "[[0.36828806 0.        ]\n",
      " [0.63171194 0.        ]]\n",
      "\n",
      "Classification report:\n",
      "              precision    recall  f1-score   support\n",
      "\n",
      "           0       0.37      1.00      0.54       583\n",
      "           1       0.00      0.00      0.00      1000\n",
      "\n",
      "    accuracy                           0.37      1583\n",
      "   macro avg       0.18      0.50      0.27      1583\n",
      "weighted avg       0.14      0.37      0.20      1583\n",
      "\n",
      "\n",
      "Model evaluation on test data [loss, accuracy, recall]:\n",
      "50/50 [==============================] - 6s 119ms/step - loss: 0.1748 - accuracy: 0.9267 - recall: 0.9440\n",
      "[0.17477327585220337, 0.9267213940620422, 0.9440000057220459]\n"
     ]
    }
   ],
   "source": [
    "display_model_results(lstm_model3)"
   ]
  },
  {
   "cell_type": "code",
   "execution_count": 52,
   "metadata": {},
   "outputs": [
    {
     "name": "stdout",
     "output_type": "stream",
     "text": [
      "Epoch 1/25\n",
      "1193/1193 [==============================] - 352s 293ms/step - loss: 0.3590 - accuracy: 0.8392 - recall: 0.8604 - val_loss: 0.1871 - val_accuracy: 0.9315 - val_recall: 0.9721\n",
      "Epoch 2/25\n",
      "1193/1193 [==============================] - 329s 276ms/step - loss: 0.1579 - accuracy: 0.9458 - recall: 0.9516 - val_loss: 0.1852 - val_accuracy: 0.9270 - val_recall: 0.9623\n",
      "Epoch 3/25\n",
      "1193/1193 [==============================] - 331s 278ms/step - loss: 0.2751 - accuracy: 0.8864 - recall: 0.8766 - val_loss: 0.2343 - val_accuracy: 0.9072 - val_recall: 0.9141\n",
      "Epoch 4/25\n",
      "1193/1193 [==============================] - 326s 274ms/step - loss: 0.1518 - accuracy: 0.9442 - recall: 0.9439 - val_loss: 0.2271 - val_accuracy: 0.9115 - val_recall: 0.9131\n",
      "Epoch 5/25\n",
      "1193/1193 [==============================] - 325s 272ms/step - loss: 0.1094 - accuracy: 0.9585 - recall: 0.9575 - val_loss: 0.2146 - val_accuracy: 0.9228 - val_recall: 0.9532\n",
      "Epoch 6/25\n",
      "1193/1193 [==============================] - 338s 283ms/step - loss: 0.0836 - accuracy: 0.9692 - recall: 0.9683 - val_loss: 0.2252 - val_accuracy: 0.9209 - val_recall: 0.9401\n",
      "Epoch 7/25\n",
      "1193/1193 [==============================] - 326s 273ms/step - loss: 0.0689 - accuracy: 0.9741 - recall: 0.9730 - val_loss: 0.2723 - val_accuracy: 0.9119 - val_recall: 0.8980\n"
     ]
    }
   ],
   "source": [
    "lstm_model4 = Sequential([\n",
    "    Embedding(MAX_FEATURES, embedding_dimension, input_length=X.shape[1]),\n",
    "    Bidirectional(LSTM(lstm_output, dropout=0.3)),\n",
    "    Dense(1, activation='sigmoid')\n",
    "])\n",
    "\n",
    "lstm_model4_history = compile_and_fit_model(lstm_model4, 'lstm_model4')"
   ]
  },
  {
   "cell_type": "code",
   "execution_count": 53,
   "metadata": {},
   "outputs": [
    {
     "name": "stdout",
     "output_type": "stream",
     "text": [
      "50/50 [==============================] - 5s 103ms/step\n",
      "Confussion matrix:\n",
      "[[0.36828806 0.        ]\n",
      " [0.63171194 0.        ]]\n",
      "\n",
      "Classification report:\n",
      "              precision    recall  f1-score   support\n",
      "\n",
      "           0       0.37      1.00      0.54       583\n",
      "           1       0.00      0.00      0.00      1000\n",
      "\n",
      "    accuracy                           0.37      1583\n",
      "   macro avg       0.18      0.50      0.27      1583\n",
      "weighted avg       0.14      0.37      0.20      1583\n",
      "\n",
      "\n",
      "Model evaluation on test data [loss, accuracy, recall]:\n",
      "50/50 [==============================] - 6s 113ms/step - loss: 0.1691 - accuracy: 0.9274 - recall: 0.9620\n",
      "[0.1690511852502823, 0.9273531436920166, 0.9620000123977661]\n"
     ]
    }
   ],
   "source": [
    "display_model_results(lstm_model4)"
   ]
  },
  {
   "cell_type": "code",
   "execution_count": null,
   "metadata": {},
   "outputs": [],
   "source": []
  }
 ],
 "metadata": {
  "kernelspec": {
   "display_name": "pytorch",
   "language": "python",
   "name": "python3"
  },
  "language_info": {
   "codemirror_mode": {
    "name": "ipython",
    "version": 3
   },
   "file_extension": ".py",
   "mimetype": "text/x-python",
   "name": "python",
   "nbconvert_exporter": "python",
   "pygments_lexer": "ipython3",
   "version": "3.10.6"
  },
  "orig_nbformat": 4
 },
 "nbformat": 4,
 "nbformat_minor": 2
}
