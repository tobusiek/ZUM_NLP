{
 "cells": [
  {
   "cell_type": "code",
   "execution_count": 4,
   "metadata": {
    "execution": {
     "iopub.execute_input": "2023-05-22T18:47:49.437671Z",
     "iopub.status.busy": "2023-05-22T18:47:49.437318Z",
     "iopub.status.idle": "2023-05-22T18:47:49.446080Z",
     "shell.execute_reply": "2023-05-22T18:47:49.444383Z",
     "shell.execute_reply.started": "2023-05-22T18:47:49.437639Z"
    }
   },
   "outputs": [],
   "source": [
    "import pandas as pd\n",
    "import numpy as np\n",
    "from IPython.display import display\n",
    "from sklearn.feature_extraction.text import TfidfVectorizer\n",
    "from sklearn.metrics import accuracy_score, confusion_matrix, precision_score, recall_score, f1_score"
   ]
  },
  {
   "cell_type": "code",
   "execution_count": 5,
   "metadata": {
    "execution": {
     "iopub.execute_input": "2023-05-22T18:47:51.240057Z",
     "iopub.status.busy": "2023-05-22T18:47:51.239588Z",
     "iopub.status.idle": "2023-05-22T18:47:51.480222Z",
     "shell.execute_reply": "2023-05-22T18:47:51.478640Z",
     "shell.execute_reply.started": "2023-05-22T18:47:51.240027Z"
    }
   },
   "outputs": [],
   "source": [
    "final_file = pd.read_csv('cleaned_dataset.csv')\n",
    "sentiment_map = pd.read_csv('sentiment_dictionary.csv')\n",
    "sentiment_dict = dict(zip(sentiment_map.words.values, sentiment_map.sentiment_coeff.values))"
   ]
  },
  {
   "cell_type": "code",
   "execution_count": 6,
   "metadata": {
    "execution": {
     "iopub.execute_input": "2023-05-22T18:47:53.444501Z",
     "iopub.status.busy": "2023-05-22T18:47:53.444095Z",
     "iopub.status.idle": "2023-05-22T18:47:53.456717Z",
     "shell.execute_reply": "2023-05-22T18:47:53.455382Z",
     "shell.execute_reply.started": "2023-05-22T18:47:53.444451Z"
    }
   },
   "outputs": [
    {
     "data": {
      "text/plain": [
       "str"
      ]
     },
     "execution_count": 6,
     "metadata": {},
     "output_type": "execute_result"
    }
   ],
   "source": [
    "type(final_file.text.iloc[0])"
   ]
  },
  {
   "cell_type": "code",
   "execution_count": 7,
   "metadata": {
    "execution": {
     "iopub.execute_input": "2023-05-22T18:47:54.985218Z",
     "iopub.status.busy": "2023-05-22T18:47:54.983767Z",
     "iopub.status.idle": "2023-05-22T18:48:01.450346Z",
     "shell.execute_reply": "2023-05-22T18:48:01.449368Z",
     "shell.execute_reply.started": "2023-05-22T18:47:54.985108Z"
    }
   },
   "outputs": [
    {
     "name": "stderr",
     "output_type": "stream",
     "text": [
      "/usr/local/lib/python3.9/dist-packages/sklearn/feature_extraction/text.py:524: UserWarning: The parameter 'token_pattern' will not be used since 'tokenizer' is not None'\n",
      "  warnings.warn(\n"
     ]
    }
   ],
   "source": [
    "file_weighting = final_file.copy()\n",
    "tfidf = TfidfVectorizer(tokenizer=lambda y: y.split(), norm=None)\n",
    "tfidf.fit(file_weighting.text.values.astype('U'))\n",
    "features = pd.Series(tfidf.get_feature_names_out())\n",
    "transformed = tfidf.transform(file_weighting.text.values.astype('U'))"
   ]
  },
  {
   "cell_type": "code",
   "execution_count": 8,
   "metadata": {
    "execution": {
     "iopub.execute_input": "2023-05-22T18:48:03.826623Z",
     "iopub.status.busy": "2023-05-22T18:48:03.825643Z",
     "iopub.status.idle": "2023-05-22T18:48:03.834893Z",
     "shell.execute_reply": "2023-05-22T18:48:03.833488Z",
     "shell.execute_reply.started": "2023-05-22T18:48:03.826623Z"
    }
   },
   "outputs": [],
   "source": [
    "def create_tfidf_dictionary(x, transformed_file, features):\n",
    "    '''\n",
    "    create dictionary for each input sentence x, where each word has assigned its tfidf score\n",
    "    \n",
    "    x - row of dataframe, containing sentences, and their indexes,\n",
    "    transformed_file - all sentences transformed with TfidfVectorizer\n",
    "    features - names of all words in corpus used in TfidfVectorizer\n",
    "\n",
    "    '''\n",
    "    vector_coo = transformed_file[x.name].tocoo()\n",
    "    vector_coo.col = features.iloc[vector_coo.col].values\n",
    "    dict_from_coo = dict(zip(vector_coo.col, vector_coo.data))\n",
    "    return dict_from_coo\n",
    "\n",
    "def replace_tfidf_words(x, transformed_file, features):\n",
    "    '''\n",
    "    replacing each word with it's calculated tfidf dictionary with scores of each word\n",
    "    x - row of dataframe, containing sentences, and their indexes,\n",
    "    transformed_file - all sentences transformed with TfidfVectorizer\n",
    "    features - names of all words in corpus used in TfidfVectorizer\n",
    "    '''\n",
    "    dictionary = create_tfidf_dictionary(x, transformed_file, features)   \n",
    "    return list(map(lambda y:dictionary[f'{y}'], str(x.text).lower().split()))"
   ]
  },
  {
   "cell_type": "code",
   "execution_count": 9,
   "metadata": {
    "execution": {
     "iopub.execute_input": "2023-05-22T18:48:05.954210Z",
     "iopub.status.busy": "2023-05-22T18:48:05.953846Z",
     "iopub.status.idle": "2023-05-22T18:48:24.447152Z",
     "shell.execute_reply": "2023-05-22T18:48:24.446325Z",
     "shell.execute_reply.started": "2023-05-22T18:48:05.954182Z"
    }
   },
   "outputs": [],
   "source": [
    "# %%time\n",
    "replaced_tfidf_scores = file_weighting.apply(lambda x: replace_tfidf_words(x, transformed, features), axis=1)#this step takes around 3-4 minutes minutes t"
   ]
  },
  {
   "cell_type": "code",
   "execution_count": 10,
   "metadata": {
    "execution": {
     "iopub.execute_input": "2023-05-22T18:48:32.876308Z",
     "iopub.status.busy": "2023-05-22T18:48:32.875346Z",
     "iopub.status.idle": "2023-05-22T18:48:32.881579Z",
     "shell.execute_reply": "2023-05-22T18:48:32.880424Z",
     "shell.execute_reply.started": "2023-05-22T18:48:32.876279Z"
    }
   },
   "outputs": [],
   "source": [
    "def replace_sentiment_words(word, sentiment_dict):\n",
    "    '''\n",
    "    replacing each word with its associated sentiment score from sentiment dict\n",
    "    '''\n",
    "    try:\n",
    "        out = sentiment_dict[word]\n",
    "    except KeyError:\n",
    "        out = 0\n",
    "    return out"
   ]
  },
  {
   "cell_type": "code",
   "execution_count": 11,
   "metadata": {
    "execution": {
     "iopub.execute_input": "2023-05-22T18:48:34.701970Z",
     "iopub.status.busy": "2023-05-22T18:48:34.701518Z",
     "iopub.status.idle": "2023-05-22T18:48:35.414266Z",
     "shell.execute_reply": "2023-05-22T18:48:35.413369Z",
     "shell.execute_reply.started": "2023-05-22T18:48:34.701941Z"
    }
   },
   "outputs": [],
   "source": [
    "replaced_closeness_scores = file_weighting.text.apply(lambda x: list(map(lambda y: replace_sentiment_words(y, sentiment_dict), str(x).split())))"
   ]
  },
  {
   "cell_type": "code",
   "execution_count": 31,
   "metadata": {
    "execution": {
     "iopub.execute_input": "2023-05-22T18:53:55.740220Z",
     "iopub.status.busy": "2023-05-22T18:53:55.739675Z",
     "iopub.status.idle": "2023-05-22T18:53:59.000623Z",
     "shell.execute_reply": "2023-05-22T18:53:58.999658Z",
     "shell.execute_reply.started": "2023-05-22T18:53:55.740188Z"
    }
   },
   "outputs": [],
   "source": [
    "replacement_df = pd.DataFrame(data=[replaced_closeness_scores, replaced_tfidf_scores, file_weighting.text]).T\n",
    "replacement_df.columns = ['sentiment_coeff', 'tfidf_scores', 'sentence']\n",
    "replacement_df['sentiment_rate'] = replacement_df.apply(lambda x: np.array(x.loc['sentiment_coeff']) @ np.array(x.loc['tfidf_scores']), axis=1)\n",
    "replacement_df['prediction'] = (replacement_df.sentiment_rate>-100).astype('int8')"
   ]
  },
  {
   "cell_type": "code",
   "execution_count": 33,
   "metadata": {
    "execution": {
     "iopub.execute_input": "2023-05-22T18:54:04.481219Z",
     "iopub.status.busy": "2023-05-22T18:54:04.480204Z",
     "iopub.status.idle": "2023-05-22T18:54:04.507464Z",
     "shell.execute_reply": "2023-05-22T18:54:04.506062Z",
     "shell.execute_reply.started": "2023-05-22T18:54:04.481182Z"
    }
   },
   "outputs": [
    {
     "data": {
      "text/html": [
       "<div>\n",
       "<style scoped>\n",
       "    .dataframe tbody tr th:only-of-type {\n",
       "        vertical-align: middle;\n",
       "    }\n",
       "\n",
       "    .dataframe tbody tr th {\n",
       "        vertical-align: top;\n",
       "    }\n",
       "\n",
       "    .dataframe thead th {\n",
       "        text-align: right;\n",
       "    }\n",
       "</style>\n",
       "<table border=\"1\" class=\"dataframe\">\n",
       "  <thead>\n",
       "    <tr style=\"text-align: right;\">\n",
       "      <th></th>\n",
       "      <th>sentiment_coeff</th>\n",
       "      <th>tfidf_scores</th>\n",
       "      <th>sentence</th>\n",
       "      <th>sentiment_rate</th>\n",
       "      <th>prediction</th>\n",
       "    </tr>\n",
       "  </thead>\n",
       "  <tbody>\n",
       "    <tr>\n",
       "      <th>2</th>\n",
       "      <td>[1.7244563648614055, -0.9948794868151926, -1.9...</td>\n",
       "      <td>[8.124406690778535, 1.0427354536430666, 8.9866...</td>\n",
       "      <td>og musk duck life wall</td>\n",
       "      <td>-19.194891</td>\n",
       "      <td>1</td>\n",
       "    </tr>\n",
       "    <tr>\n",
       "      <th>3</th>\n",
       "      <td>[-1.697171576418397, -1.6641501991749887, -1.5...</td>\n",
       "      <td>[7.025794402110425, 5.357389013588209, 3.49790...</td>\n",
       "      <td>dare speak way great powerful musk obviously d...</td>\n",
       "      <td>-99.530856</td>\n",
       "      <td>1</td>\n",
       "    </tr>\n",
       "    <tr>\n",
       "      <th>4</th>\n",
       "      <td>[-1.449100638134386, -1.5635951194832456, -1.6...</td>\n",
       "      <td>[5.301705927111406, 5.75936858313794, 6.433900...</td>\n",
       "      <td>wait finally excuse shower douche</td>\n",
       "      <td>-36.174028</td>\n",
       "      <td>1</td>\n",
       "    </tr>\n",
       "    <tr>\n",
       "      <th>5</th>\n",
       "      <td>[-0.9948794868151926, -1.307036541067213, -1.5...</td>\n",
       "      <td>[1.0427354536430666, 3.621638438408525, 5.0926...</td>\n",
       "      <td>musk try oh boy head buttock</td>\n",
       "      <td>-1.735252</td>\n",
       "      <td>1</td>\n",
       "    </tr>\n",
       "    <tr>\n",
       "      <th>7</th>\n",
       "      <td>[-1.762821927266953, -1.5728633876026017, -0.9...</td>\n",
       "      <td>[4.833520329934062, 3.7777194225499624, 1.0427...</td>\n",
       "      <td>case mean musk</td>\n",
       "      <td>-15.499868</td>\n",
       "      <td>1</td>\n",
       "    </tr>\n",
       "    <tr>\n",
       "      <th>...</th>\n",
       "      <td>...</td>\n",
       "      <td>...</td>\n",
       "      <td>...</td>\n",
       "      <td>...</td>\n",
       "      <td>...</td>\n",
       "    </tr>\n",
       "    <tr>\n",
       "      <th>55866</th>\n",
       "      <td>[-1.6970219009256653, -0.9948794868151926, -1....</td>\n",
       "      <td>[5.147743979944895, 1.0427354536430666, 4.5421...</td>\n",
       "      <td>remember musk call onion unfunny post old meme...</td>\n",
       "      <td>-61.290207</td>\n",
       "      <td>1</td>\n",
       "    </tr>\n",
       "    <tr>\n",
       "      <th>55869</th>\n",
       "      <td>[-0.9948794868151926, -1.372332088661498, -1.1...</td>\n",
       "      <td>[1.0427354536430666, 5.883697001502577, 4.0593...</td>\n",
       "      <td>musk wake new black</td>\n",
       "      <td>-8.507571</td>\n",
       "      <td>1</td>\n",
       "    </tr>\n",
       "    <tr>\n",
       "      <th>55870</th>\n",
       "      <td>[-1.3499090596213068, -1.50874768163437, -0.99...</td>\n",
       "      <td>[5.606710218167544, 4.747198465486402, 1.04273...</td>\n",
       "      <td>risk fire musk disagree</td>\n",
       "      <td>-24.243057</td>\n",
       "      <td>1</td>\n",
       "    </tr>\n",
       "    <tr>\n",
       "      <th>55875</th>\n",
       "      <td>[-0.9948794868151926, -1.6526913989427787, -1....</td>\n",
       "      <td>[1.0427354536430666, 4.333171230027071, 5.8789...</td>\n",
       "      <td>musk run president 's office thankfully bear u...</td>\n",
       "      <td>-87.797739</td>\n",
       "      <td>1</td>\n",
       "    </tr>\n",
       "    <tr>\n",
       "      <th>55880</th>\n",
       "      <td>[-1.3422167853849998, -1.307305223286776, -1.7...</td>\n",
       "      <td>[2.442339783032484, 5.493317530812454, 5.87898...</td>\n",
       "      <td>like brain dead lmao barely relate musk blind ...</td>\n",
       "      <td>-87.761684</td>\n",
       "      <td>1</td>\n",
       "    </tr>\n",
       "  </tbody>\n",
       "</table>\n",
       "<p>25180 rows × 5 columns</p>\n",
       "</div>"
      ],
      "text/plain": [
       "                                         sentiment_coeff  \\\n",
       "2      [1.7244563648614055, -0.9948794868151926, -1.9...   \n",
       "3      [-1.697171576418397, -1.6641501991749887, -1.5...   \n",
       "4      [-1.449100638134386, -1.5635951194832456, -1.6...   \n",
       "5      [-0.9948794868151926, -1.307036541067213, -1.5...   \n",
       "7      [-1.762821927266953, -1.5728633876026017, -0.9...   \n",
       "...                                                  ...   \n",
       "55866  [-1.6970219009256653, -0.9948794868151926, -1....   \n",
       "55869  [-0.9948794868151926, -1.372332088661498, -1.1...   \n",
       "55870  [-1.3499090596213068, -1.50874768163437, -0.99...   \n",
       "55875  [-0.9948794868151926, -1.6526913989427787, -1....   \n",
       "55880  [-1.3422167853849998, -1.307305223286776, -1.7...   \n",
       "\n",
       "                                            tfidf_scores  \\\n",
       "2      [8.124406690778535, 1.0427354536430666, 8.9866...   \n",
       "3      [7.025794402110425, 5.357389013588209, 3.49790...   \n",
       "4      [5.301705927111406, 5.75936858313794, 6.433900...   \n",
       "5      [1.0427354536430666, 3.621638438408525, 5.0926...   \n",
       "7      [4.833520329934062, 3.7777194225499624, 1.0427...   \n",
       "...                                                  ...   \n",
       "55866  [5.147743979944895, 1.0427354536430666, 4.5421...   \n",
       "55869  [1.0427354536430666, 5.883697001502577, 4.0593...   \n",
       "55870  [5.606710218167544, 4.747198465486402, 1.04273...   \n",
       "55875  [1.0427354536430666, 4.333171230027071, 5.8789...   \n",
       "55880  [2.442339783032484, 5.493317530812454, 5.87898...   \n",
       "\n",
       "                                                sentence  sentiment_rate  \\\n",
       "2                                 og musk duck life wall      -19.194891   \n",
       "3      dare speak way great powerful musk obviously d...      -99.530856   \n",
       "4                      wait finally excuse shower douche      -36.174028   \n",
       "5                           musk try oh boy head buttock       -1.735252   \n",
       "7                                         case mean musk      -15.499868   \n",
       "...                                                  ...             ...   \n",
       "55866  remember musk call onion unfunny post old meme...      -61.290207   \n",
       "55869                                musk wake new black       -8.507571   \n",
       "55870                            risk fire musk disagree      -24.243057   \n",
       "55875  musk run president 's office thankfully bear u...      -87.797739   \n",
       "55880  like brain dead lmao barely relate musk blind ...      -87.761684   \n",
       "\n",
       "       prediction  \n",
       "2               1  \n",
       "3               1  \n",
       "4               1  \n",
       "5               1  \n",
       "7               1  \n",
       "...           ...  \n",
       "55866           1  \n",
       "55869           1  \n",
       "55870           1  \n",
       "55875           1  \n",
       "55880           1  \n",
       "\n",
       "[25180 rows x 5 columns]"
      ]
     },
     "execution_count": 33,
     "metadata": {},
     "output_type": "execute_result"
    }
   ],
   "source": [
    "replacement_df[replacement_df['prediction'] == 0]"
   ]
  },
  {
   "cell_type": "code",
   "execution_count": 34,
   "metadata": {
    "execution": {
     "iopub.execute_input": "2023-05-22T18:54:21.898446Z",
     "iopub.status.busy": "2023-05-22T18:54:21.897687Z",
     "iopub.status.idle": "2023-05-22T18:54:22.273798Z",
     "shell.execute_reply": "2023-05-22T18:54:22.273046Z",
     "shell.execute_reply.started": "2023-05-22T18:54:21.898446Z"
    }
   },
   "outputs": [],
   "source": [
    "replacement_df[['sentence','prediction']].to_csv('text_with_label.csv')"
   ]
  },
  {
   "cell_type": "code",
   "execution_count": 35,
   "metadata": {
    "execution": {
     "iopub.execute_input": "2023-05-22T18:54:22.434832Z",
     "iopub.status.busy": "2023-05-22T18:54:22.433933Z",
     "iopub.status.idle": "2023-05-22T18:54:22.455529Z",
     "shell.execute_reply": "2023-05-22T18:54:22.454555Z",
     "shell.execute_reply.started": "2023-05-22T18:54:22.434832Z"
    }
   },
   "outputs": [
    {
     "data": {
      "text/html": [
       "<div>\n",
       "<style scoped>\n",
       "    .dataframe tbody tr th:only-of-type {\n",
       "        vertical-align: middle;\n",
       "    }\n",
       "\n",
       "    .dataframe tbody tr th {\n",
       "        vertical-align: top;\n",
       "    }\n",
       "\n",
       "    .dataframe thead th {\n",
       "        text-align: right;\n",
       "    }\n",
       "</style>\n",
       "<table border=\"1\" class=\"dataframe\">\n",
       "  <thead>\n",
       "    <tr style=\"text-align: right;\">\n",
       "      <th></th>\n",
       "      <th>sentiment_rate</th>\n",
       "      <th>prediction</th>\n",
       "    </tr>\n",
       "  </thead>\n",
       "  <tbody>\n",
       "    <tr>\n",
       "      <th>count</th>\n",
       "      <td>55885.000000</td>\n",
       "      <td>55885.000000</td>\n",
       "    </tr>\n",
       "    <tr>\n",
       "      <th>mean</th>\n",
       "      <td>-251.513129</td>\n",
       "      <td>0.450568</td>\n",
       "    </tr>\n",
       "    <tr>\n",
       "      <th>std</th>\n",
       "      <td>1984.377863</td>\n",
       "      <td>0.497555</td>\n",
       "    </tr>\n",
       "    <tr>\n",
       "      <th>min</th>\n",
       "      <td>-47992.683413</td>\n",
       "      <td>0.000000</td>\n",
       "    </tr>\n",
       "    <tr>\n",
       "      <th>25%</th>\n",
       "      <td>-298.034083</td>\n",
       "      <td>0.000000</td>\n",
       "    </tr>\n",
       "    <tr>\n",
       "      <th>50%</th>\n",
       "      <td>-118.211886</td>\n",
       "      <td>0.000000</td>\n",
       "    </tr>\n",
       "    <tr>\n",
       "      <th>75%</th>\n",
       "      <td>-44.909313</td>\n",
       "      <td>1.000000</td>\n",
       "    </tr>\n",
       "    <tr>\n",
       "      <th>max</th>\n",
       "      <td>138872.633451</td>\n",
       "      <td>1.000000</td>\n",
       "    </tr>\n",
       "  </tbody>\n",
       "</table>\n",
       "</div>"
      ],
      "text/plain": [
       "       sentiment_rate    prediction\n",
       "count    55885.000000  55885.000000\n",
       "mean      -251.513129      0.450568\n",
       "std       1984.377863      0.497555\n",
       "min     -47992.683413      0.000000\n",
       "25%       -298.034083      0.000000\n",
       "50%       -118.211886      0.000000\n",
       "75%        -44.909313      1.000000\n",
       "max     138872.633451      1.000000"
      ]
     },
     "execution_count": 35,
     "metadata": {},
     "output_type": "execute_result"
    }
   ],
   "source": [
    "replacement_df.describe()"
   ]
  }
 ],
 "metadata": {
  "kernelspec": {
   "display_name": "Python 3 (ipykernel)",
   "language": "python",
   "name": "python3"
  },
  "language_info": {
   "codemirror_mode": {
    "name": "ipython",
    "version": 3
   },
   "file_extension": ".py",
   "mimetype": "text/x-python",
   "name": "python",
   "nbconvert_exporter": "python",
   "pygments_lexer": "ipython3",
   "version": "3.9.16"
  }
 },
 "nbformat": 4,
 "nbformat_minor": 4
}
