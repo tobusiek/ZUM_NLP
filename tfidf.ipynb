{
 "cells": [
  {
   "cell_type": "code",
   "execution_count": 32,
   "metadata": {},
   "outputs": [],
   "source": [
    "import pandas as pd\n",
    "import numpy as np\n",
    "from IPython.display import display\n",
    "from sklearn.feature_extraction.text import TfidfVectorizer\n",
    "from sklearn.metrics import accuracy_score, confusion_matrix, precision_score, recall_score, f1_score"
   ]
  },
  {
   "cell_type": "code",
   "execution_count": 33,
   "metadata": {},
   "outputs": [],
   "source": [
    "final_file = pd.read_csv('cleaned_dataset.csv')\n",
    "sentiment_map = pd.read_csv('sentiment_dictionary.csv')\n",
    "sentiment_dict = dict(zip(sentiment_map.words.values, sentiment_map.sentiment_coeff.values))"
   ]
  },
  {
   "cell_type": "code",
   "execution_count": 34,
   "metadata": {},
   "outputs": [
    {
     "data": {
      "text/plain": [
       "str"
      ]
     },
     "execution_count": 34,
     "metadata": {},
     "output_type": "execute_result"
    }
   ],
   "source": [
    "type(final_file.text.iloc[0])"
   ]
  },
  {
   "cell_type": "code",
   "execution_count": 35,
   "metadata": {},
   "outputs": [
    {
     "name": "stderr",
     "output_type": "stream",
     "text": [
      "/Library/Frameworks/Python.framework/Versions/3.9/lib/python3.9/site-packages/sklearn/feature_extraction/text.py:524: UserWarning: The parameter 'token_pattern' will not be used since 'tokenizer' is not None'\n",
      "  warnings.warn(\n"
     ]
    }
   ],
   "source": [
    "file_weighting = final_file.copy()\n",
    "tfidf = TfidfVectorizer(tokenizer=lambda y: y.split(), norm=None)\n",
    "tfidf.fit(file_weighting.text.values.astype('U'))\n",
    "features = pd.Series(tfidf.get_feature_names_out())\n",
    "transformed = tfidf.transform(file_weighting.text.values.astype('U'))"
   ]
  },
  {
   "cell_type": "code",
   "execution_count": 36,
   "metadata": {},
   "outputs": [],
   "source": [
    "def create_tfidf_dictionary(x, transformed_file, features):\n",
    "    '''\n",
    "    create dictionary for each input sentence x, where each word has assigned its tfidf score\n",
    "    \n",
    "    x - row of dataframe, containing sentences, and their indexes,\n",
    "    transformed_file - all sentences transformed with TfidfVectorizer\n",
    "    features - names of all words in corpus used in TfidfVectorizer\n",
    "\n",
    "    '''\n",
    "    vector_coo = transformed_file[x.name].tocoo()\n",
    "    vector_coo.col = features.iloc[vector_coo.col].values\n",
    "    dict_from_coo = dict(zip(vector_coo.col, vector_coo.data))\n",
    "    return dict_from_coo\n",
    "\n",
    "def replace_tfidf_words(x, transformed_file, features):\n",
    "    '''\n",
    "    replacing each word with it's calculated tfidf dictionary with scores of each word\n",
    "    x - row of dataframe, containing sentences, and their indexes,\n",
    "    transformed_file - all sentences transformed with TfidfVectorizer\n",
    "    features - names of all words in corpus used in TfidfVectorizer\n",
    "    '''\n",
    "    dictionary = create_tfidf_dictionary(x, transformed_file, features)   \n",
    "    return list(map(lambda y:dictionary[f'{y}'], str(x.text).lower().split()))"
   ]
  },
  {
   "cell_type": "code",
   "execution_count": 37,
   "metadata": {},
   "outputs": [],
   "source": [
    "# %%time\n",
    "replaced_tfidf_scores = file_weighting.apply(lambda x: replace_tfidf_words(x, transformed, features), axis=1)#this step takes around 3-4 minutes minutes t"
   ]
  },
  {
   "cell_type": "code",
   "execution_count": 38,
   "metadata": {},
   "outputs": [],
   "source": [
    "def replace_sentiment_words(word, sentiment_dict):\n",
    "    '''\n",
    "    replacing each word with its associated sentiment score from sentiment dict\n",
    "    '''\n",
    "    try:\n",
    "        out = sentiment_dict[word]\n",
    "    except KeyError:\n",
    "        out = 0\n",
    "    return out"
   ]
  },
  {
   "cell_type": "code",
   "execution_count": 39,
   "metadata": {},
   "outputs": [],
   "source": [
    "replaced_closeness_scores = file_weighting.text.apply(lambda x: list(map(lambda y: replace_sentiment_words(y, sentiment_dict), str(x).split())))"
   ]
  },
  {
   "cell_type": "code",
   "execution_count": 48,
   "metadata": {},
   "outputs": [],
   "source": [
    "replacement_df = pd.DataFrame(data=[replaced_closeness_scores, replaced_tfidf_scores, file_weighting.text]).T\n",
    "replacement_df.columns = ['sentiment_coeff', 'tfidf_scores', 'sentence']\n",
    "replacement_df['sentiment_rate'] = replacement_df.apply(lambda x: np.array(x.loc['sentiment_coeff']) @ np.array(x.loc['tfidf_scores']), axis=1)\n",
    "replacement_df['prediction'] = (replacement_df.sentiment_rate>100).astype('int8')"
   ]
  },
  {
   "cell_type": "code",
   "execution_count": 49,
   "metadata": {},
   "outputs": [
    {
     "data": {
      "text/html": [
       "<div>\n",
       "<style scoped>\n",
       "    .dataframe tbody tr th:only-of-type {\n",
       "        vertical-align: middle;\n",
       "    }\n",
       "\n",
       "    .dataframe tbody tr th {\n",
       "        vertical-align: top;\n",
       "    }\n",
       "\n",
       "    .dataframe thead th {\n",
       "        text-align: right;\n",
       "    }\n",
       "</style>\n",
       "<table border=\"1\" class=\"dataframe\">\n",
       "  <thead>\n",
       "    <tr style=\"text-align: right;\">\n",
       "      <th></th>\n",
       "      <th>sentiment_coeff</th>\n",
       "      <th>tfidf_scores</th>\n",
       "      <th>sentence</th>\n",
       "      <th>sentiment_rate</th>\n",
       "      <th>prediction</th>\n",
       "    </tr>\n",
       "  </thead>\n",
       "  <tbody>\n",
       "    <tr>\n",
       "      <th>2</th>\n",
       "      <td>[-0.9540358009457152, 0.9786753693078538, 1.77...</td>\n",
       "      <td>[7.512398252312913, 1.555309033361735, 9.53835...</td>\n",
       "      <td>og musk duck lives wall</td>\n",
       "      <td>29.696213</td>\n",
       "      <td>0</td>\n",
       "    </tr>\n",
       "    <tr>\n",
       "      <th>4</th>\n",
       "      <td>[1.696641513583642, 1.339973693457616, 1.64246...</td>\n",
       "      <td>[7.398284945545492, 6.0046645443335285, 6.9052...</td>\n",
       "      <td>cannot_wait finally excuse shower douche</td>\n",
       "      <td>54.617788</td>\n",
       "      <td>0</td>\n",
       "    </tr>\n",
       "    <tr>\n",
       "      <th>5</th>\n",
       "      <td>[0.9786753693078538, 1.521034753349722, 2.9382...</td>\n",
       "      <td>[1.555309033361735, 4.8235794131385905, 9.2506...</td>\n",
       "      <td>musk trying oh_boy head buttocks</td>\n",
       "      <td>22.023611</td>\n",
       "      <td>0</td>\n",
       "    </tr>\n",
       "    <tr>\n",
       "      <th>6</th>\n",
       "      <td>[4.216235800301971, 1.3054374751824371, 1.0810...</td>\n",
       "      <td>[10.231498289601708, 2.708287137775497, 1.9096...</td>\n",
       "      <td>kevin_leary like elon_musk far_less successful...</td>\n",
       "      <td>-368.974481</td>\n",
       "      <td>0</td>\n",
       "    </tr>\n",
       "    <tr>\n",
       "      <th>7</th>\n",
       "      <td>[1.718969931654016, 1.5023113265457595, 0.9786...</td>\n",
       "      <td>[5.224201896770967, 5.022923298554533, 1.55530...</td>\n",
       "      <td>case means musk</td>\n",
       "      <td>18.048383</td>\n",
       "      <td>0</td>\n",
       "    </tr>\n",
       "    <tr>\n",
       "      <th>...</th>\n",
       "      <td>...</td>\n",
       "      <td>...</td>\n",
       "      <td>...</td>\n",
       "      <td>...</td>\n",
       "      <td>...</td>\n",
       "    </tr>\n",
       "    <tr>\n",
       "      <th>61264</th>\n",
       "      <td>[1.299418580314482, 1.3838757021566253, 0.9786...</td>\n",
       "      <td>[8.034273712265488, 2.812217631739307, 1.55530...</td>\n",
       "      <td>maher would musk cock live_tv could embarrassi...</td>\n",
       "      <td>90.440197</td>\n",
       "      <td>0</td>\n",
       "    </tr>\n",
       "    <tr>\n",
       "      <th>61265</th>\n",
       "      <td>[1.4329371705631306, 1.491180094561145, 1.1214...</td>\n",
       "      <td>[4.008591388364821, 3.7128427646414712, 7.3788...</td>\n",
       "      <td>well could apartheid - raised musk woke new black</td>\n",
       "      <td>39.234013</td>\n",
       "      <td>0</td>\n",
       "    </tr>\n",
       "    <tr>\n",
       "      <th>61266</th>\n",
       "      <td>[1.2758252792217688, 0.9786753693078538]</td>\n",
       "      <td>[7.61653851156551, 1.555309033361735]</td>\n",
       "      <td>kanye musk</td>\n",
       "      <td>11.239515</td>\n",
       "      <td>0</td>\n",
       "    </tr>\n",
       "    <tr>\n",
       "      <th>61267</th>\n",
       "      <td>[1.5259895939725314, 1.3841192788707477, 1.353...</td>\n",
       "      <td>[3.8207753122532258, 6.302945982222352, 5.9711...</td>\n",
       "      <td>still risk fired ever say something musk disag...</td>\n",
       "      <td>56.822436</td>\n",
       "      <td>0</td>\n",
       "    </tr>\n",
       "    <tr>\n",
       "      <th>61272</th>\n",
       "      <td>[1.3382876866584583, 0.9786753693078538, 1.580...</td>\n",
       "      <td>[3.382255281687239, 1.555309033361735, 4.16732...</td>\n",
       "      <td>also musk cannot run_president office thankful...</td>\n",
       "      <td>51.001459</td>\n",
       "      <td>0</td>\n",
       "    </tr>\n",
       "  </tbody>\n",
       "</table>\n",
       "<p>27434 rows × 5 columns</p>\n",
       "</div>"
      ],
      "text/plain": [
       "                                         sentiment_coeff  \\\n",
       "2      [-0.9540358009457152, 0.9786753693078538, 1.77...   \n",
       "4      [1.696641513583642, 1.339973693457616, 1.64246...   \n",
       "5      [0.9786753693078538, 1.521034753349722, 2.9382...   \n",
       "6      [4.216235800301971, 1.3054374751824371, 1.0810...   \n",
       "7      [1.718969931654016, 1.5023113265457595, 0.9786...   \n",
       "...                                                  ...   \n",
       "61264  [1.299418580314482, 1.3838757021566253, 0.9786...   \n",
       "61265  [1.4329371705631306, 1.491180094561145, 1.1214...   \n",
       "61266           [1.2758252792217688, 0.9786753693078538]   \n",
       "61267  [1.5259895939725314, 1.3841192788707477, 1.353...   \n",
       "61272  [1.3382876866584583, 0.9786753693078538, 1.580...   \n",
       "\n",
       "                                            tfidf_scores  \\\n",
       "2      [7.512398252312913, 1.555309033361735, 9.53835...   \n",
       "4      [7.398284945545492, 6.0046645443335285, 6.9052...   \n",
       "5      [1.555309033361735, 4.8235794131385905, 9.2506...   \n",
       "6      [10.231498289601708, 2.708287137775497, 1.9096...   \n",
       "7      [5.224201896770967, 5.022923298554533, 1.55530...   \n",
       "...                                                  ...   \n",
       "61264  [8.034273712265488, 2.812217631739307, 1.55530...   \n",
       "61265  [4.008591388364821, 3.7128427646414712, 7.3788...   \n",
       "61266              [7.61653851156551, 1.555309033361735]   \n",
       "61267  [3.8207753122532258, 6.302945982222352, 5.9711...   \n",
       "61272  [3.382255281687239, 1.555309033361735, 4.16732...   \n",
       "\n",
       "                                                sentence  sentiment_rate  \\\n",
       "2                                og musk duck lives wall       29.696213   \n",
       "4               cannot_wait finally excuse shower douche       54.617788   \n",
       "5                       musk trying oh_boy head buttocks       22.023611   \n",
       "6      kevin_leary like elon_musk far_less successful...     -368.974481   \n",
       "7                                        case means musk       18.048383   \n",
       "...                                                  ...             ...   \n",
       "61264  maher would musk cock live_tv could embarrassi...       90.440197   \n",
       "61265  well could apartheid - raised musk woke new black       39.234013   \n",
       "61266                                         kanye musk       11.239515   \n",
       "61267  still risk fired ever say something musk disag...       56.822436   \n",
       "61272  also musk cannot run_president office thankful...       51.001459   \n",
       "\n",
       "       prediction  \n",
       "2               0  \n",
       "4               0  \n",
       "5               0  \n",
       "6               0  \n",
       "7               0  \n",
       "...           ...  \n",
       "61264           0  \n",
       "61265           0  \n",
       "61266           0  \n",
       "61267           0  \n",
       "61272           0  \n",
       "\n",
       "[27434 rows x 5 columns]"
      ]
     },
     "execution_count": 49,
     "metadata": {},
     "output_type": "execute_result"
    }
   ],
   "source": [
    "replacement_df[replacement_df['prediction'] == 0]"
   ]
  },
  {
   "cell_type": "code",
   "execution_count": 50,
   "metadata": {},
   "outputs": [],
   "source": [
    "replacement_df[['sentence','prediction']].to_csv('text_with_label.csv')"
   ]
  },
  {
   "cell_type": "code",
   "execution_count": null,
   "metadata": {},
   "outputs": [],
   "source": []
  }
 ],
 "metadata": {
  "kernelspec": {
   "display_name": "Python 3",
   "language": "python",
   "name": "python3"
  },
  "language_info": {
   "codemirror_mode": {
    "name": "ipython",
    "version": 3
   },
   "file_extension": ".py",
   "mimetype": "text/x-python",
   "name": "python",
   "nbconvert_exporter": "python",
   "pygments_lexer": "ipython3",
   "version": "3.9.9"
  },
  "orig_nbformat": 4
 },
 "nbformat": 4,
 "nbformat_minor": 2
}
