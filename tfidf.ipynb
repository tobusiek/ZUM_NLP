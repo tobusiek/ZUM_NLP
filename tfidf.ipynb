{
 "cells": [
  {
   "cell_type": "code",
   "execution_count": 1,
   "metadata": {},
   "outputs": [],
   "source": [
    "import pandas as pd\n",
    "import numpy as np\n",
    "from IPython.display import display\n",
    "from sklearn.feature_extraction.text import TfidfVectorizer\n",
    "from sklearn.metrics import accuracy_score, confusion_matrix, precision_score, recall_score, f1_score"
   ]
  },
  {
   "cell_type": "code",
   "execution_count": 2,
   "metadata": {},
   "outputs": [],
   "source": [
    "final_file = pd.read_csv('cleaned_dataset.csv')\n",
    "sentiment_map = pd.read_csv('sentiment_dictionary.csv')\n",
    "sentiment_dict = dict(zip(sentiment_map.words.values, sentiment_map.sentiment_coeff.values))"
   ]
  },
  {
   "cell_type": "code",
   "execution_count": 3,
   "metadata": {},
   "outputs": [
    {
     "data": {
      "text/plain": [
       "str"
      ]
     },
     "execution_count": 3,
     "metadata": {},
     "output_type": "execute_result"
    }
   ],
   "source": [
    "type(final_file.text.iloc[0])"
   ]
  },
  {
   "cell_type": "code",
   "execution_count": 4,
   "metadata": {},
   "outputs": [
    {
     "name": "stderr",
     "output_type": "stream",
     "text": [
      "c:\\Users\\manar\\anaconda3\\envs\\BigD\\lib\\site-packages\\sklearn\\feature_extraction\\text.py:528: UserWarning: The parameter 'token_pattern' will not be used since 'tokenizer' is not None'\n",
      "  warnings.warn(\n"
     ]
    }
   ],
   "source": [
    "file_weighting = final_file.copy()\n",
    "tfidf = TfidfVectorizer(tokenizer=lambda y: y.split(), norm=None)\n",
    "tfidf.fit(file_weighting.text.values.astype('U'))\n",
    "features = pd.Series(tfidf.get_feature_names_out())\n",
    "transformed = tfidf.transform(file_weighting.text.values.astype('U'))"
   ]
  },
  {
   "cell_type": "code",
   "execution_count": 5,
   "metadata": {},
   "outputs": [],
   "source": [
    "def create_tfidf_dictionary(x, transformed_file, features):\n",
    "    '''\n",
    "    create dictionary for each input sentence x, where each word has assigned its tfidf score\n",
    "    \n",
    "    x - row of dataframe, containing sentences, and their indexes,\n",
    "    transformed_file - all sentences transformed with TfidfVectorizer\n",
    "    features - names of all words in corpus used in TfidfVectorizer\n",
    "\n",
    "    '''\n",
    "    vector_coo = transformed_file[x.name].tocoo()\n",
    "    vector_coo.col = features.iloc[vector_coo.col].values\n",
    "    dict_from_coo = dict(zip(vector_coo.col, vector_coo.data))\n",
    "    return dict_from_coo\n",
    "\n",
    "def replace_tfidf_words(x, transformed_file, features):\n",
    "    '''\n",
    "    replacing each word with it's calculated tfidf dictionary with scores of each word\n",
    "    x - row of dataframe, containing sentences, and their indexes,\n",
    "    transformed_file - all sentences transformed with TfidfVectorizer\n",
    "    features - names of all words in corpus used in TfidfVectorizer\n",
    "    '''\n",
    "    dictionary = create_tfidf_dictionary(x, transformed_file, features)   \n",
    "    return list(map(lambda y:dictionary[f'{y}'], str(x.text).lower().split()))"
   ]
  },
  {
   "cell_type": "code",
   "execution_count": 6,
   "metadata": {},
   "outputs": [],
   "source": [
    "# %%time\n",
    "replaced_tfidf_scores = file_weighting.apply(lambda x: replace_tfidf_words(x, transformed, features), axis=1)#this step takes around 3-4 minutes minutes t"
   ]
  },
  {
   "cell_type": "code",
   "execution_count": 7,
   "metadata": {},
   "outputs": [],
   "source": [
    "def replace_sentiment_words(word, sentiment_dict):\n",
    "    '''\n",
    "    replacing each word with its associated sentiment score from sentiment dict\n",
    "    '''\n",
    "    try:\n",
    "        out = sentiment_dict[word]\n",
    "    except KeyError:\n",
    "        out = 0\n",
    "    return out"
   ]
  },
  {
   "cell_type": "code",
   "execution_count": 8,
   "metadata": {},
   "outputs": [],
   "source": [
    "replaced_closeness_scores = file_weighting.text.apply(lambda x: list(map(lambda y: replace_sentiment_words(y, sentiment_dict), str(x).split())))"
   ]
  },
  {
   "cell_type": "code",
   "execution_count": 9,
   "metadata": {},
   "outputs": [],
   "source": [
    "replacement_df = pd.DataFrame(data=[replaced_closeness_scores, replaced_tfidf_scores, file_weighting.text]).T\n",
    "replacement_df.columns = ['sentiment_coeff', 'tfidf_scores', 'sentence']\n",
    "replacement_df['sentiment_rate'] = replacement_df.apply(lambda x: np.array(x.loc['sentiment_coeff']) @ np.array(x.loc['tfidf_scores']), axis=1)\n",
    "replacement_df['prediction'] = (replacement_df.sentiment_rate>0).astype('int8')"
   ]
  },
  {
   "cell_type": "code",
   "execution_count": 14,
   "metadata": {},
   "outputs": [
    {
     "data": {
      "text/html": [
       "<div>\n",
       "<style scoped>\n",
       "    .dataframe tbody tr th:only-of-type {\n",
       "        vertical-align: middle;\n",
       "    }\n",
       "\n",
       "    .dataframe tbody tr th {\n",
       "        vertical-align: top;\n",
       "    }\n",
       "\n",
       "    .dataframe thead th {\n",
       "        text-align: right;\n",
       "    }\n",
       "</style>\n",
       "<table border=\"1\" class=\"dataframe\">\n",
       "  <thead>\n",
       "    <tr style=\"text-align: right;\">\n",
       "      <th></th>\n",
       "      <th>sentiment_coeff</th>\n",
       "      <th>tfidf_scores</th>\n",
       "      <th>sentence</th>\n",
       "      <th>sentiment_rate</th>\n",
       "      <th>prediction</th>\n",
       "    </tr>\n",
       "  </thead>\n",
       "  <tbody>\n",
       "    <tr>\n",
       "      <th>6</th>\n",
       "      <td>[4.216235800301971, 1.3054374751824371, 1.0810...</td>\n",
       "      <td>[10.231498289601708, 2.708287137775497, 1.9096...</td>\n",
       "      <td>kevin_leary like elon_musk far_less successful...</td>\n",
       "      <td>-368.974481</td>\n",
       "      <td>0</td>\n",
       "    </tr>\n",
       "    <tr>\n",
       "      <th>34</th>\n",
       "      <td>[-2.3897000908081174, -1.676489860141257, -1.3...</td>\n",
       "      <td>[10.636963397709872, 10.07734760977445, 5.8268...</td>\n",
       "      <td>dentre plataformas que dados pra_vender tweete...</td>\n",
       "      <td>-68.059042</td>\n",
       "      <td>0</td>\n",
       "    </tr>\n",
       "    <tr>\n",
       "      <th>35</th>\n",
       "      <td>[-1.573594317260521, -1.4526839346900224, -1.2...</td>\n",
       "      <td>[10.07734760977445, 9.250669036589981, 8.65596...</td>\n",
       "      <td>us_wherever sell_perfume shipping_starts 5 oil...</td>\n",
       "      <td>-1424.241253</td>\n",
       "      <td>0</td>\n",
       "    </tr>\n",
       "    <tr>\n",
       "      <th>43</th>\n",
       "      <td>[1.3064039461920518, -1.4242921640123751, -1.6...</td>\n",
       "      <td>[7.117982980391334, 7.278325630466513, 9.82603...</td>\n",
       "      <td>ah nao mas_isso e ! elon_musk por_exemplo nasc...</td>\n",
       "      <td>-175.481824</td>\n",
       "      <td>0</td>\n",
       "    </tr>\n",
       "    <tr>\n",
       "      <th>63</th>\n",
       "      <td>[1.4973112055222213, -1.1511845496275368, -1.1...</td>\n",
       "      <td>[5.045044016199064, 17.11504371206007, 17.1150...</td>\n",
       "      <td>best interior interior anon musk</td>\n",
       "      <td>-5.152198</td>\n",
       "      <td>0</td>\n",
       "    </tr>\n",
       "    <tr>\n",
       "      <th>...</th>\n",
       "      <td>...</td>\n",
       "      <td>...</td>\n",
       "      <td>...</td>\n",
       "      <td>...</td>\n",
       "      <td>...</td>\n",
       "    </tr>\n",
       "    <tr>\n",
       "      <th>61235</th>\n",
       "      <td>[-1.0499231691511863, 3.0693216607105644, -1.2...</td>\n",
       "      <td>[6.841474208537678, 10.07734760977445, 8.93221...</td>\n",
       "      <td>bpal goggles metallic needs metallic_notes ind...</td>\n",
       "      <td>-104.615326</td>\n",
       "      <td>0</td>\n",
       "    </tr>\n",
       "    <tr>\n",
       "      <th>61249</th>\n",
       "      <td>[-1.172726964224266, -1.574757572603959, 1.280...</td>\n",
       "      <td>[8.526750197363283, 10.231498289601708, 6.0726...</td>\n",
       "      <td>al_rehab attars project really well shada musk...</td>\n",
       "      <td>-79.172989</td>\n",
       "      <td>0</td>\n",
       "    </tr>\n",
       "    <tr>\n",
       "      <th>61251</th>\n",
       "      <td>[1.5181924346549036, 3.699953954792449, 3.4061...</td>\n",
       "      <td>[11.008220941778735, 10.636963397709872, 10.63...</td>\n",
       "      <td>thinking many_radical left_participate speedru...</td>\n",
       "      <td>-1580.682807</td>\n",
       "      <td>0</td>\n",
       "    </tr>\n",
       "    <tr>\n",
       "      <th>61255</th>\n",
       "      <td>[-1.7835763851347646, -1.3176195438629958, -1....</td>\n",
       "      <td>[10.413819846395663, 7.945720314924044, 10.077...</td>\n",
       "      <td>proto sem byl v san tam taxi : : musk jak kdyz...</td>\n",
       "      <td>-321.334869</td>\n",
       "      <td>0</td>\n",
       "    </tr>\n",
       "    <tr>\n",
       "      <th>61256</th>\n",
       "      <td>[-1.2500057994725255, 1.491180094561145, 0.958...</td>\n",
       "      <td>[8.359696112700117, 3.7128427646414712, 5.7655...</td>\n",
       "      <td>hello_! could please get alpha_musk amber warm...</td>\n",
       "      <td>-58.975198</td>\n",
       "      <td>0</td>\n",
       "    </tr>\n",
       "  </tbody>\n",
       "</table>\n",
       "<p>5928 rows × 5 columns</p>\n",
       "</div>"
      ],
      "text/plain": [
       "                                         sentiment_coeff  \\\n",
       "6      [4.216235800301971, 1.3054374751824371, 1.0810...   \n",
       "34     [-2.3897000908081174, -1.676489860141257, -1.3...   \n",
       "35     [-1.573594317260521, -1.4526839346900224, -1.2...   \n",
       "43     [1.3064039461920518, -1.4242921640123751, -1.6...   \n",
       "63     [1.4973112055222213, -1.1511845496275368, -1.1...   \n",
       "...                                                  ...   \n",
       "61235  [-1.0499231691511863, 3.0693216607105644, -1.2...   \n",
       "61249  [-1.172726964224266, -1.574757572603959, 1.280...   \n",
       "61251  [1.5181924346549036, 3.699953954792449, 3.4061...   \n",
       "61255  [-1.7835763851347646, -1.3176195438629958, -1....   \n",
       "61256  [-1.2500057994725255, 1.491180094561145, 0.958...   \n",
       "\n",
       "                                            tfidf_scores  \\\n",
       "6      [10.231498289601708, 2.708287137775497, 1.9096...   \n",
       "34     [10.636963397709872, 10.07734760977445, 5.8268...   \n",
       "35     [10.07734760977445, 9.250669036589981, 8.65596...   \n",
       "43     [7.117982980391334, 7.278325630466513, 9.82603...   \n",
       "63     [5.045044016199064, 17.11504371206007, 17.1150...   \n",
       "...                                                  ...   \n",
       "61235  [6.841474208537678, 10.07734760977445, 8.93221...   \n",
       "61249  [8.526750197363283, 10.231498289601708, 6.0726...   \n",
       "61251  [11.008220941778735, 10.636963397709872, 10.63...   \n",
       "61255  [10.413819846395663, 7.945720314924044, 10.077...   \n",
       "61256  [8.359696112700117, 3.7128427646414712, 5.7655...   \n",
       "\n",
       "                                                sentence  sentiment_rate  \\\n",
       "6      kevin_leary like elon_musk far_less successful...     -368.974481   \n",
       "34     dentre plataformas que dados pra_vender tweete...      -68.059042   \n",
       "35     us_wherever sell_perfume shipping_starts 5 oil...    -1424.241253   \n",
       "43     ah nao mas_isso e ! elon_musk por_exemplo nasc...     -175.481824   \n",
       "63                      best interior interior anon musk       -5.152198   \n",
       "...                                                  ...             ...   \n",
       "61235  bpal goggles metallic needs metallic_notes ind...     -104.615326   \n",
       "61249  al_rehab attars project really well shada musk...      -79.172989   \n",
       "61251  thinking many_radical left_participate speedru...    -1580.682807   \n",
       "61255  proto sem byl v san tam taxi : : musk jak kdyz...     -321.334869   \n",
       "61256  hello_! could please get alpha_musk amber warm...      -58.975198   \n",
       "\n",
       "       prediction  \n",
       "6               0  \n",
       "34              0  \n",
       "35              0  \n",
       "43              0  \n",
       "63              0  \n",
       "...           ...  \n",
       "61235           0  \n",
       "61249           0  \n",
       "61251           0  \n",
       "61255           0  \n",
       "61256           0  \n",
       "\n",
       "[5928 rows x 5 columns]"
      ]
     },
     "execution_count": 14,
     "metadata": {},
     "output_type": "execute_result"
    }
   ],
   "source": [
    "replacement_df[replacement_df['prediction'] == 0]"
   ]
  },
  {
   "cell_type": "code",
   "execution_count": 19,
   "metadata": {},
   "outputs": [],
   "source": [
    "replacement_df[['sentence', 'prediction']].to_csv('labeled_data.csv')"
   ]
  }
 ],
 "metadata": {
  "kernelspec": {
   "display_name": "Python 3",
   "language": "python",
   "name": "python3"
  },
  "language_info": {
   "codemirror_mode": {
    "name": "ipython",
    "version": 3
   },
   "file_extension": ".py",
   "mimetype": "text/x-python",
   "name": "python",
   "nbconvert_exporter": "python",
   "pygments_lexer": "ipython3",
   "version": "3.10.6"
  },
  "orig_nbformat": 4
 },
 "nbformat": 4,
 "nbformat_minor": 2
}
