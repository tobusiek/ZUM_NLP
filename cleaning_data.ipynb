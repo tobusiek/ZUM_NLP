{
 "cells": [
  {
   "cell_type": "code",
   "execution_count": 19,
   "metadata": {},
   "outputs": [
    {
     "data": {
      "text/html": [
       "<div>\n",
       "<style scoped>\n",
       "    .dataframe tbody tr th:only-of-type {\n",
       "        vertical-align: middle;\n",
       "    }\n",
       "\n",
       "    .dataframe tbody tr th {\n",
       "        vertical-align: top;\n",
       "    }\n",
       "\n",
       "    .dataframe thead th {\n",
       "        text-align: right;\n",
       "    }\n",
       "</style>\n",
       "<table border=\"1\" class=\"dataframe\">\n",
       "  <thead>\n",
       "    <tr style=\"text-align: right;\">\n",
       "      <th></th>\n",
       "      <th>type</th>\n",
       "      <th>author</th>\n",
       "      <th>text</th>\n",
       "      <th>created</th>\n",
       "    </tr>\n",
       "  </thead>\n",
       "  <tbody>\n",
       "    <tr>\n",
       "      <th>58284</th>\n",
       "      <td>Comment</td>\n",
       "      <td>nikatnight</td>\n",
       "      <td>Of course. This is an interesting thing that h...</td>\n",
       "      <td>2023-04-03 16:11:55+00:00</td>\n",
       "    </tr>\n",
       "    <tr>\n",
       "      <th>55666</th>\n",
       "      <td>Comment</td>\n",
       "      <td>Inevitable_Egg5341</td>\n",
       "      <td>I'd love to sleep in a 69 position with her la...</td>\n",
       "      <td>2023-03-31 11:56:14+00:00</td>\n",
       "    </tr>\n",
       "    <tr>\n",
       "      <th>69752</th>\n",
       "      <td>Comment</td>\n",
       "      <td>PlastikHateAccount</td>\n",
       "      <td>Karl Lauterbach hat eine Beziehung zu Deadline...</td>\n",
       "      <td>2023-04-15 17:23:36+00:00</td>\n",
       "    </tr>\n",
       "    <tr>\n",
       "      <th>79478</th>\n",
       "      <td>Comment</td>\n",
       "      <td>SporkTechRules</td>\n",
       "      <td>\"Paging Mr. Musk. Mr. Musk, please pick up the...</td>\n",
       "      <td>2023-04-26 17:59:08+00:00</td>\n",
       "    </tr>\n",
       "    <tr>\n",
       "      <th>14759</th>\n",
       "      <td>Comment</td>\n",
       "      <td>FeedMeACat</td>\n",
       "      <td>What do you mean? Musk playing hardball when t...</td>\n",
       "      <td>2023-02-15 18:39:51+00:00</td>\n",
       "    </tr>\n",
       "  </tbody>\n",
       "</table>\n",
       "</div>"
      ],
      "text/plain": [
       "          type              author  \\\n",
       "58284  Comment          nikatnight   \n",
       "55666  Comment  Inevitable_Egg5341   \n",
       "69752  Comment  PlastikHateAccount   \n",
       "79478  Comment      SporkTechRules   \n",
       "14759  Comment          FeedMeACat   \n",
       "\n",
       "                                                    text  \\\n",
       "58284  Of course. This is an interesting thing that h...   \n",
       "55666  I'd love to sleep in a 69 position with her la...   \n",
       "69752  Karl Lauterbach hat eine Beziehung zu Deadline...   \n",
       "79478  \"Paging Mr. Musk. Mr. Musk, please pick up the...   \n",
       "14759  What do you mean? Musk playing hardball when t...   \n",
       "\n",
       "                         created  \n",
       "58284  2023-04-03 16:11:55+00:00  \n",
       "55666  2023-03-31 11:56:14+00:00  \n",
       "69752  2023-04-15 17:23:36+00:00  \n",
       "79478  2023-04-26 17:59:08+00:00  \n",
       "14759  2023-02-15 18:39:51+00:00  "
      ]
     },
     "execution_count": 19,
     "metadata": {},
     "output_type": "execute_result"
    }
   ],
   "source": [
    "import pandas as pd\n",
    "\n",
    "musk_df = pd.read_csv('musk.csv', index_col=0)\n",
    "musk_df.sample(5)"
   ]
  },
  {
   "cell_type": "code",
   "execution_count": 20,
   "metadata": {},
   "outputs": [
    {
     "data": {
      "text/plain": [
       "Comment                      61620\n",
       "2023-04-30 15:47:51+00:00        1\n",
       "Name: type, dtype: int64"
      ]
     },
     "execution_count": 20,
     "metadata": {},
     "output_type": "execute_result"
    }
   ],
   "source": [
    "musk_df['type'].value_counts()"
   ]
  },
  {
   "cell_type": "code",
   "execution_count": 21,
   "metadata": {},
   "outputs": [],
   "source": [
    "musk_df.drop('type', axis=1, inplace=True)"
   ]
  },
  {
   "cell_type": "code",
   "execution_count": 22,
   "metadata": {},
   "outputs": [],
   "source": [
    "TEXTS_COL_NAME = 'text'"
   ]
  },
  {
   "cell_type": "code",
   "execution_count": 23,
   "metadata": {},
   "outputs": [
    {
     "data": {
      "text/plain": [
       "(61619, 61619)"
      ]
     },
     "execution_count": 23,
     "metadata": {},
     "output_type": "execute_result"
    }
   ],
   "source": [
    "def remove_duplicates_and_na(df: pd.DataFrame) -> pd.DataFrame:\n",
    "    df.dropna(inplace=True)\n",
    "    df.drop_duplicates(inplace=True)\n",
    "    return df\n",
    "\n",
    "musk_df_clean = remove_duplicates_and_na(musk_df)\n",
    "musk_df.shape[0], musk_df_clean.shape[0]"
   ]
  },
  {
   "cell_type": "code",
   "execution_count": 24,
   "metadata": {},
   "outputs": [
    {
     "data": {
      "text/plain": [
       "0        i had been on twitter prior to the musk takeov...\n",
       "2        that article does not say what you imply at al...\n",
       "3                       the og musk duck lives on my wall.\n",
       "4        how dare he speak that way to the great and po...\n",
       "5        can’t wait to finally have an excuse not to sh...\n",
       "                               ...                        \n",
       "85215    like brain dead piranhas lmao, anything barely...\n",
       "85221    what am i lying about? what's my agenda? pleas...\n",
       "85223    hard disagree. i don't think he's a parody of ...\n",
       "85224    yeah. i think too many things are lining up ri...\n",
       "85225    good choice by musk. it is impossible to regul...\n",
       "Name: text, Length: 61619, dtype: object"
      ]
     },
     "execution_count": 24,
     "metadata": {},
     "output_type": "execute_result"
    }
   ],
   "source": [
    "def to_lower(text: str) -> str:\n",
    "    return text.lower()\n",
    "\n",
    "musk_df_clean[TEXTS_COL_NAME] = musk_df_clean[TEXTS_COL_NAME].apply(to_lower)\n",
    "musk_df_clean[TEXTS_COL_NAME]"
   ]
  },
  {
   "cell_type": "code",
   "execution_count": 25,
   "metadata": {},
   "outputs": [],
   "source": [
    "from unidecode import unidecode\n",
    "\n",
    "def replace_to_unicode(text:str) -> str:\n",
    "    return unidecode(text)\n",
    "\n",
    "musk_df_clean[TEXTS_COL_NAME] = musk_df_clean[TEXTS_COL_NAME].apply(replace_to_unicode)"
   ]
  },
  {
   "cell_type": "code",
   "execution_count": 26,
   "metadata": {},
   "outputs": [],
   "source": [
    "import re\n",
    "\n",
    "def remove_urls(text: str) -> str:\n",
    "   return re.sub(r\"(www.[^\\s]+)|(https?:\\/\\/[^\\s]+)\", \"\", text)\n",
    "\n",
    "musk_df_clean[TEXTS_COL_NAME] = musk_df_clean[TEXTS_COL_NAME].apply(remove_urls)"
   ]
  },
  {
   "cell_type": "code",
   "execution_count": 27,
   "metadata": {},
   "outputs": [
    {
     "data": {
      "text/html": [
       "<div>\n",
       "<style scoped>\n",
       "    .dataframe tbody tr th:only-of-type {\n",
       "        vertical-align: middle;\n",
       "    }\n",
       "\n",
       "    .dataframe tbody tr th {\n",
       "        vertical-align: top;\n",
       "    }\n",
       "\n",
       "    .dataframe thead th {\n",
       "        text-align: right;\n",
       "    }\n",
       "</style>\n",
       "<table border=\"1\" class=\"dataframe\">\n",
       "  <thead>\n",
       "    <tr style=\"text-align: right;\">\n",
       "      <th></th>\n",
       "      <th>author</th>\n",
       "      <th>text</th>\n",
       "      <th>created</th>\n",
       "    </tr>\n",
       "  </thead>\n",
       "  <tbody>\n",
       "    <tr>\n",
       "      <th>30294</th>\n",
       "      <td>AbsAndAssAppreciator</td>\n",
       "      <td>i guess his childhood would be different so he...</td>\n",
       "      <td>2023-03-03 11:12:26+00:00</td>\n",
       "    </tr>\n",
       "    <tr>\n",
       "      <th>4032</th>\n",
       "      <td>Afraid-Contract-385</td>\n",
       "      <td>i know some people dislike it but i often use ...</td>\n",
       "      <td>2023-02-03 18:00:07+00:00</td>\n",
       "    </tr>\n",
       "    <tr>\n",
       "      <th>22884</th>\n",
       "      <td>Neil_is_me</td>\n",
       "      <td>elon musk can do basic math maybe that's why h...</td>\n",
       "      <td>2023-02-24 16:38:54+00:00</td>\n",
       "    </tr>\n",
       "    <tr>\n",
       "      <th>68514</th>\n",
       "      <td>I_smell_NORMIES</td>\n",
       "      <td>elon musk he's african so his name doesn't change</td>\n",
       "      <td>2023-04-13 15:35:24+00:00</td>\n",
       "    </tr>\n",
       "    <tr>\n",
       "      <th>10231</th>\n",
       "      <td>bigbadhank7</td>\n",
       "      <td>i bought in april last year i love the car and...</td>\n",
       "      <td>2023-02-09 17:00:17+00:00</td>\n",
       "    </tr>\n",
       "    <tr>\n",
       "      <th>29596</th>\n",
       "      <td>Matsapha</td>\n",
       "      <td>thanks for the link  anyone who helps dissemin...</td>\n",
       "      <td>2023-03-03 18:01:36+00:00</td>\n",
       "    </tr>\n",
       "    <tr>\n",
       "      <th>45092</th>\n",
       "      <td>ergzay</td>\n",
       "      <td>elon isn't an emerald mine heir that's a myth</td>\n",
       "      <td>2023-03-21 18:31:17+00:00</td>\n",
       "    </tr>\n",
       "    <tr>\n",
       "      <th>1256</th>\n",
       "      <td>WeCanDoThisCNJ</td>\n",
       "      <td>in  alone there were  climaterelated disasters...</td>\n",
       "      <td>2023-01-31 17:15:47+00:00</td>\n",
       "    </tr>\n",
       "    <tr>\n",
       "      <th>41034</th>\n",
       "      <td>Eastern_Ad_4441</td>\n",
       "      <td>government spending is not the problem that is...</td>\n",
       "      <td>2023-03-14 12:07:09+00:00</td>\n",
       "    </tr>\n",
       "    <tr>\n",
       "      <th>4070</th>\n",
       "      <td>SmolKittenSlut</td>\n",
       "      <td>please rest it on my face i'll take in all you...</td>\n",
       "      <td>2023-02-03 17:49:27+00:00</td>\n",
       "    </tr>\n",
       "  </tbody>\n",
       "</table>\n",
       "</div>"
      ],
      "text/plain": [
       "                     author  \\\n",
       "30294  AbsAndAssAppreciator   \n",
       "4032    Afraid-Contract-385   \n",
       "22884            Neil_is_me   \n",
       "68514       I_smell_NORMIES   \n",
       "10231           bigbadhank7   \n",
       "29596              Matsapha   \n",
       "45092                ergzay   \n",
       "1256         WeCanDoThisCNJ   \n",
       "41034       Eastern_Ad_4441   \n",
       "4070         SmolKittenSlut   \n",
       "\n",
       "                                                    text  \\\n",
       "30294  i guess his childhood would be different so he...   \n",
       "4032   i know some people dislike it but i often use ...   \n",
       "22884  elon musk can do basic math maybe that's why h...   \n",
       "68514  elon musk he's african so his name doesn't change   \n",
       "10231  i bought in april last year i love the car and...   \n",
       "29596  thanks for the link  anyone who helps dissemin...   \n",
       "45092     elon isn't an emerald mine heir that's a myth    \n",
       "1256   in  alone there were  climaterelated disasters...   \n",
       "41034  government spending is not the problem that is...   \n",
       "4070   please rest it on my face i'll take in all you...   \n",
       "\n",
       "                         created  \n",
       "30294  2023-03-03 11:12:26+00:00  \n",
       "4032   2023-02-03 18:00:07+00:00  \n",
       "22884  2023-02-24 16:38:54+00:00  \n",
       "68514  2023-04-13 15:35:24+00:00  \n",
       "10231  2023-02-09 17:00:17+00:00  \n",
       "29596  2023-03-03 18:01:36+00:00  \n",
       "45092  2023-03-21 18:31:17+00:00  \n",
       "1256   2023-01-31 17:15:47+00:00  \n",
       "41034  2023-03-14 12:07:09+00:00  \n",
       "4070   2023-02-03 17:49:27+00:00  "
      ]
     },
     "execution_count": 27,
     "metadata": {},
     "output_type": "execute_result"
    }
   ],
   "source": [
    "def normalize_text(text: str) -> str:\n",
    "    if not isinstance(text, str):\n",
    "        print(type(text))\n",
    "    matches = re.findall(r\"[a-zA-Z\\s']+\", text)\n",
    "    return ''.join(matches)\n",
    "\n",
    "musk_df_clean[TEXTS_COL_NAME] = musk_df_clean[TEXTS_COL_NAME].apply(normalize_text)\n",
    "musk_df_clean.sample(10)"
   ]
  },
  {
   "cell_type": "code",
   "execution_count": 28,
   "metadata": {},
   "outputs": [
    {
     "data": {
      "text/html": [
       "<div>\n",
       "<style scoped>\n",
       "    .dataframe tbody tr th:only-of-type {\n",
       "        vertical-align: middle;\n",
       "    }\n",
       "\n",
       "    .dataframe tbody tr th {\n",
       "        vertical-align: top;\n",
       "    }\n",
       "\n",
       "    .dataframe thead th {\n",
       "        text-align: right;\n",
       "    }\n",
       "</style>\n",
       "<table border=\"1\" class=\"dataframe\">\n",
       "  <thead>\n",
       "    <tr style=\"text-align: right;\">\n",
       "      <th></th>\n",
       "      <th>author</th>\n",
       "      <th>text</th>\n",
       "      <th>created</th>\n",
       "    </tr>\n",
       "  </thead>\n",
       "  <tbody>\n",
       "    <tr>\n",
       "      <th>17056</th>\n",
       "      <td>TimeIsTheMindOfSpace</td>\n",
       "      <td>elon musk is a megachurch pastor for atheistsd...</td>\n",
       "      <td>2023-02-17 16:29:34+00:00</td>\n",
       "    </tr>\n",
       "    <tr>\n",
       "      <th>2295</th>\n",
       "      <td>zlefin_actual</td>\n",
       "      <td>because he is a bad person doing a lot of bad ...</td>\n",
       "      <td>2023-02-01 16:27:46+00:00</td>\n",
       "    </tr>\n",
       "    <tr>\n",
       "      <th>25543</th>\n",
       "      <td>honeydew808</td>\n",
       "      <td>comma is in the wrong place in musk's reply</td>\n",
       "      <td>2023-02-26 09:37:24+00:00</td>\n",
       "    </tr>\n",
       "    <tr>\n",
       "      <th>60073</th>\n",
       "      <td>Chris_Hansen_AMA</td>\n",
       "      <td>yeah like pressure from china who musk despera...</td>\n",
       "      <td>2023-04-05 17:13:38+00:00</td>\n",
       "    </tr>\n",
       "    <tr>\n",
       "      <th>70879</th>\n",
       "      <td>Redd575</td>\n",
       "      <td>gt and i think twitter has never made a profit...</td>\n",
       "      <td>2023-04-16 15:56:56+00:00</td>\n",
       "    </tr>\n",
       "    <tr>\n",
       "      <th>41305</th>\n",
       "      <td>Rick_101</td>\n",
       "      <td>ok i get some of your points you could agree t...</td>\n",
       "      <td>2023-03-15 17:46:43+00:00</td>\n",
       "    </tr>\n",
       "    <tr>\n",
       "      <th>72360</th>\n",
       "      <td>orgngrndr01</td>\n",
       "      <td>i think though that the combination of new bat...</td>\n",
       "      <td>2023-04-17 14:26:33+00:00</td>\n",
       "    </tr>\n",
       "    <tr>\n",
       "      <th>51512</th>\n",
       "      <td>A-U-R-A</td>\n",
       "      <td>maybe they are considering advertising on twit...</td>\n",
       "      <td>2023-03-27 14:50:45+00:00</td>\n",
       "    </tr>\n",
       "    <tr>\n",
       "      <th>32498</th>\n",
       "      <td>GrandmaPoses</td>\n",
       "      <td>elon musk's childhood was a difficult one as h...</td>\n",
       "      <td>2023-03-06 18:22:33+00:00</td>\n",
       "    </tr>\n",
       "    <tr>\n",
       "      <th>16951</th>\n",
       "      <td>MrZFisher</td>\n",
       "      <td>musk said he was a right winger suspiciously b...</td>\n",
       "      <td>2023-02-17 17:07:08+00:00</td>\n",
       "    </tr>\n",
       "  </tbody>\n",
       "</table>\n",
       "</div>"
      ],
      "text/plain": [
       "                     author  \\\n",
       "17056  TimeIsTheMindOfSpace   \n",
       "2295          zlefin_actual   \n",
       "25543           honeydew808   \n",
       "60073      Chris_Hansen_AMA   \n",
       "70879               Redd575   \n",
       "41305              Rick_101   \n",
       "72360           orgngrndr01   \n",
       "51512               A-U-R-A   \n",
       "32498          GrandmaPoses   \n",
       "16951             MrZFisher   \n",
       "\n",
       "                                                    text  \\\n",
       "17056  elon musk is a megachurch pastor for atheistsd...   \n",
       "2295   because he is a bad person doing a lot of bad ...   \n",
       "25543        comma is in the wrong place in musk's reply   \n",
       "60073  yeah like pressure from china who musk despera...   \n",
       "70879  gt and i think twitter has never made a profit...   \n",
       "41305  ok i get some of your points you could agree t...   \n",
       "72360  i think though that the combination of new bat...   \n",
       "51512  maybe they are considering advertising on twit...   \n",
       "32498  elon musk's childhood was a difficult one as h...   \n",
       "16951  musk said he was a right winger suspiciously b...   \n",
       "\n",
       "                         created  \n",
       "17056  2023-02-17 16:29:34+00:00  \n",
       "2295   2023-02-01 16:27:46+00:00  \n",
       "25543  2023-02-26 09:37:24+00:00  \n",
       "60073  2023-04-05 17:13:38+00:00  \n",
       "70879  2023-04-16 15:56:56+00:00  \n",
       "41305  2023-03-15 17:46:43+00:00  \n",
       "72360  2023-04-17 14:26:33+00:00  \n",
       "51512  2023-03-27 14:50:45+00:00  \n",
       "32498  2023-03-06 18:22:33+00:00  \n",
       "16951  2023-02-17 17:07:08+00:00  "
      ]
     },
     "execution_count": 28,
     "metadata": {},
     "output_type": "execute_result"
    }
   ],
   "source": [
    "import contractions\n",
    "\n",
    "def replace_contractions(text: str) -> str:\n",
    "    return contractions.fix(text)\n",
    "\n",
    "musk_df_clean[TEXTS_COL_NAME] = musk_df_clean[TEXTS_COL_NAME].apply(replace_contractions)\n",
    "musk_df_clean.sample(10)"
   ]
  },
  {
   "cell_type": "code",
   "execution_count": 29,
   "metadata": {},
   "outputs": [
    {
     "data": {
      "text/plain": [
       "<spacy_langdetect.spacy_langdetect.LanguageDetector at 0x7f24364e74f0>"
      ]
     },
     "execution_count": 29,
     "metadata": {},
     "output_type": "execute_result"
    }
   ],
   "source": [
    "import spacy\n",
    "from spacy.language import Language\n",
    "from spacy_langdetect import LanguageDetector\n",
    "\n",
    "@Language.factory('language_detector')\n",
    "def get_lang_detector(nlp, name):\n",
    "    return LanguageDetector()\n",
    "\n",
    "nlp = spacy.load('en_core_web_md', disable=['ner', 'parser'])\n",
    "nlp.add_pipe('sentencizer')\n",
    "nlp.add_pipe('language_detector')"
   ]
  },
  {
   "cell_type": "code",
   "execution_count": 30,
   "metadata": {},
   "outputs": [
    {
     "data": {
      "text/plain": [
       "61619"
      ]
     },
     "execution_count": 30,
     "metadata": {},
     "output_type": "execute_result"
    }
   ],
   "source": [
    "musk_df_clean.shape[0]"
   ]
  },
  {
   "cell_type": "code",
   "execution_count": 31,
   "metadata": {},
   "outputs": [],
   "source": [
    "def remove_rows_with_non_english_texts(df: pd.DataFrame) -> pd.DataFrame:\n",
    "    rows_with_eng_texts_indices = []\n",
    "    for i, text in df.iterrows():\n",
    "        doc = nlp(text[TEXTS_COL_NAME])\n",
    "        if doc._.language['language'] == 'en':\n",
    "            rows_with_eng_texts_indices.append(i)\n",
    "    return df.loc[rows_with_eng_texts_indices]\n",
    "\n",
    "musk_df_clean = remove_rows_with_non_english_texts(musk_df_clean)"
   ]
  },
  {
   "cell_type": "code",
   "execution_count": 32,
   "metadata": {},
   "outputs": [
    {
     "data": {
      "text/plain": [
       "55868"
      ]
     },
     "execution_count": 32,
     "metadata": {},
     "output_type": "execute_result"
    }
   ],
   "source": [
    "musk_df_clean.shape[0]"
   ]
  },
  {
   "cell_type": "code",
   "execution_count": 33,
   "metadata": {},
   "outputs": [],
   "source": [
    "def remove_stop_words(text: str) -> str:\n",
    "    text_without_stop_words = []\n",
    "    for word in text.split(' '):\n",
    "        if word not in nlp.Defaults.stop_words:\n",
    "            text_without_stop_words.append(word)\n",
    "    return \" \".join(text_without_stop_words)\n",
    "\n",
    "musk_df_clean[TEXTS_COL_NAME] = musk_df_clean[TEXTS_COL_NAME].apply(remove_stop_words)"
   ]
  },
  {
   "cell_type": "code",
   "execution_count": 34,
   "metadata": {},
   "outputs": [],
   "source": [
    "def lemmatize(text: str) -> str:\n",
    "    text_lemmatized = []\n",
    "    for word in nlp(text):\n",
    "        text_lemmatized.append(word.lemma_)\n",
    "    return \" \".join(text_lemmatized)\n",
    "\n",
    "musk_df_clean[TEXTS_COL_NAME] = musk_df_clean[TEXTS_COL_NAME].apply(lemmatize)"
   ]
  },
  {
   "cell_type": "code",
   "execution_count": 35,
   "metadata": {},
   "outputs": [],
   "source": [
    "musk_df_clean[TEXTS_COL_NAME] = musk_df_clean[TEXTS_COL_NAME].apply(str.split)"
   ]
  },
  {
   "cell_type": "code",
   "execution_count": 36,
   "metadata": {},
   "outputs": [
    {
     "data": {
      "text/html": [
       "<div>\n",
       "<style scoped>\n",
       "    .dataframe tbody tr th:only-of-type {\n",
       "        vertical-align: middle;\n",
       "    }\n",
       "\n",
       "    .dataframe tbody tr th {\n",
       "        vertical-align: top;\n",
       "    }\n",
       "\n",
       "    .dataframe thead th {\n",
       "        text-align: right;\n",
       "    }\n",
       "</style>\n",
       "<table border=\"1\" class=\"dataframe\">\n",
       "  <thead>\n",
       "    <tr style=\"text-align: right;\">\n",
       "      <th></th>\n",
       "      <th>author</th>\n",
       "      <th>text</th>\n",
       "      <th>created</th>\n",
       "    </tr>\n",
       "  </thead>\n",
       "  <tbody>\n",
       "    <tr>\n",
       "      <th>50073</th>\n",
       "      <td>AresInRepose</td>\n",
       "      <td>[hello, oh, lot, lovely, water, energy, you, c...</td>\n",
       "      <td>2023-03-26 18:02:04+00:00</td>\n",
       "    </tr>\n",
       "    <tr>\n",
       "      <th>85151</th>\n",
       "      <td>Superloopertive</td>\n",
       "      <td>[hard, separate, grime, musk, 's, grossness, p...</td>\n",
       "      <td>2023-05-01 08:29:01+00:00</td>\n",
       "    </tr>\n",
       "    <tr>\n",
       "      <th>2976</th>\n",
       "      <td>Call_of_Tculhu</td>\n",
       "      <td>[elon, musk, tom, brady, role, model, legion, ...</td>\n",
       "      <td>2023-02-02 18:39:51+00:00</td>\n",
       "    </tr>\n",
       "    <tr>\n",
       "      <th>80503</th>\n",
       "      <td>PM_ME_YO_TREE_FIDDY</td>\n",
       "      <td>[damn, guy, lose, time, try, excuse, teslamusk...</td>\n",
       "      <td>2023-04-27 17:46:06+00:00</td>\n",
       "    </tr>\n",
       "    <tr>\n",
       "      <th>69941</th>\n",
       "      <td>N_Who</td>\n",
       "      <td>[fucker, call, sixmonth, pause, ai, developmen...</td>\n",
       "      <td>2023-04-15 16:11:22+00:00</td>\n",
       "    </tr>\n",
       "    <tr>\n",
       "      <th>82404</th>\n",
       "      <td>RandolphE6</td>\n",
       "      <td>[meet, odorous, guy, college, say, shower, bui...</td>\n",
       "      <td>2023-04-29 18:05:34+00:00</td>\n",
       "    </tr>\n",
       "    <tr>\n",
       "      <th>6302</th>\n",
       "      <td>plopop0</td>\n",
       "      <td>[elon, musk, tesla, 's, cofounder, ceo, elon, ...</td>\n",
       "      <td>2023-02-05 15:49:35+00:00</td>\n",
       "    </tr>\n",
       "    <tr>\n",
       "      <th>81899</th>\n",
       "      <td>RiotDog1312</td>\n",
       "      <td>[actually, listen, man, speak, fortune, entire...</td>\n",
       "      <td>2023-04-28 14:46:17+00:00</td>\n",
       "    </tr>\n",
       "    <tr>\n",
       "      <th>18125</th>\n",
       "      <td>MissThreepwood</td>\n",
       "      <td>[ai, naughty, course, ai, uprise, musk, talk]</td>\n",
       "      <td>2023-02-18 16:02:41+00:00</td>\n",
       "    </tr>\n",
       "    <tr>\n",
       "      <th>32483</th>\n",
       "      <td>MirrorSauce</td>\n",
       "      <td>[twitter, challenger, explosion, matter, elon,...</td>\n",
       "      <td>2023-03-06 18:27:43+00:00</td>\n",
       "    </tr>\n",
       "  </tbody>\n",
       "</table>\n",
       "</div>"
      ],
      "text/plain": [
       "                    author                                               text  \\\n",
       "50073         AresInRepose  [hello, oh, lot, lovely, water, energy, you, c...   \n",
       "85151      Superloopertive  [hard, separate, grime, musk, 's, grossness, p...   \n",
       "2976        Call_of_Tculhu  [elon, musk, tom, brady, role, model, legion, ...   \n",
       "80503  PM_ME_YO_TREE_FIDDY  [damn, guy, lose, time, try, excuse, teslamusk...   \n",
       "69941                N_Who  [fucker, call, sixmonth, pause, ai, developmen...   \n",
       "82404           RandolphE6  [meet, odorous, guy, college, say, shower, bui...   \n",
       "6302               plopop0  [elon, musk, tesla, 's, cofounder, ceo, elon, ...   \n",
       "81899          RiotDog1312  [actually, listen, man, speak, fortune, entire...   \n",
       "18125       MissThreepwood      [ai, naughty, course, ai, uprise, musk, talk]   \n",
       "32483          MirrorSauce  [twitter, challenger, explosion, matter, elon,...   \n",
       "\n",
       "                         created  \n",
       "50073  2023-03-26 18:02:04+00:00  \n",
       "85151  2023-05-01 08:29:01+00:00  \n",
       "2976   2023-02-02 18:39:51+00:00  \n",
       "80503  2023-04-27 17:46:06+00:00  \n",
       "69941  2023-04-15 16:11:22+00:00  \n",
       "82404  2023-04-29 18:05:34+00:00  \n",
       "6302   2023-02-05 15:49:35+00:00  \n",
       "81899  2023-04-28 14:46:17+00:00  \n",
       "18125  2023-02-18 16:02:41+00:00  \n",
       "32483  2023-03-06 18:27:43+00:00  "
      ]
     },
     "execution_count": 36,
     "metadata": {},
     "output_type": "execute_result"
    }
   ],
   "source": [
    "musk_df_clean.sample(10)"
   ]
  },
  {
   "cell_type": "code",
   "execution_count": 37,
   "metadata": {},
   "outputs": [],
   "source": [
    "musk_df_clean.to_csv('musk_clean.csv')"
   ]
  },
  {
   "cell_type": "code",
   "execution_count": null,
   "metadata": {},
   "outputs": [],
   "source": []
  }
 ],
 "metadata": {
  "kernelspec": {
   "display_name": "BigD",
   "language": "python",
   "name": "python3"
  },
  "language_info": {
   "codemirror_mode": {
    "name": "ipython",
    "version": 3
   },
   "file_extension": ".py",
   "mimetype": "text/x-python",
   "name": "python",
   "nbconvert_exporter": "python",
   "pygments_lexer": "ipython3",
   "version": "3.10.6"
  },
  "orig_nbformat": 4
 },
 "nbformat": 4,
 "nbformat_minor": 2
}
