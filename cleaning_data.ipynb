{
 "cells": [
  {
   "cell_type": "code",
   "execution_count": 124,
   "metadata": {},
   "outputs": [
    {
     "data": {
      "text/html": [
       "<div>\n",
       "<style scoped>\n",
       "    .dataframe tbody tr th:only-of-type {\n",
       "        vertical-align: middle;\n",
       "    }\n",
       "\n",
       "    .dataframe tbody tr th {\n",
       "        vertical-align: top;\n",
       "    }\n",
       "\n",
       "    .dataframe thead th {\n",
       "        text-align: right;\n",
       "    }\n",
       "</style>\n",
       "<table border=\"1\" class=\"dataframe\">\n",
       "  <thead>\n",
       "    <tr style=\"text-align: right;\">\n",
       "      <th></th>\n",
       "      <th>type</th>\n",
       "      <th>author</th>\n",
       "      <th>text</th>\n",
       "      <th>created</th>\n",
       "    </tr>\n",
       "  </thead>\n",
       "  <tbody>\n",
       "    <tr>\n",
       "      <th>68058</th>\n",
       "      <td>Comment</td>\n",
       "      <td>Fair_Waltz_5535</td>\n",
       "      <td>Ugh! Conservatives lack originality! Musk’s done it so now they want to mimic a spoiled billionaire throwing tantrum at news media</td>\n",
       "      <td>2023-04-13 17:12:04+00:00</td>\n",
       "    </tr>\n",
       "    <tr>\n",
       "      <th>4085</th>\n",
       "      <td>Comment</td>\n",
       "      <td>PFG123456789</td>\n",
       "      <td>This picture of Musk is perfect 🤣</td>\n",
       "      <td>2023-02-03 17:44:20+00:00</td>\n",
       "    </tr>\n",
       "    <tr>\n",
       "      <th>75453</th>\n",
       "      <td>Comment</td>\n",
       "      <td>_DARVON_AI</td>\n",
       "      <td>***Elon Musk: Greatest Man Alive***\\n\\nhttps://existentialcomics.com/comic/other/17</td>\n",
       "      <td>2023-04-21 18:46:38+00:00</td>\n",
       "    </tr>\n",
       "    <tr>\n",
       "      <th>81750</th>\n",
       "      <td>Comment</td>\n",
       "      <td>handsomeslug</td>\n",
       "      <td>I think Elon Musk is a piece of shit. People can be successful and pieces of shits. It's almost sad how you guys have convinced yourselves that this man made 200 billion dollars and on the way he never had any successes.</td>\n",
       "      <td>2023-04-28 15:50:00+00:00</td>\n",
       "    </tr>\n",
       "    <tr>\n",
       "      <th>46433</th>\n",
       "      <td>Comment</td>\n",
       "      <td>Last_Fact_3044</td>\n",
       "      <td>I think it could be done, BUT it would need more scenes and action added. If it was a TRUE adaptation, the story would be\\n\\n- Bond plays cards \\n\\n- Bond investigated a guy\\n\\n- The cliffs get collapsed on them\\n\\n- There’s a car chase \\n\\n- They stop the missile\\n\\nWhich isn’t enough for a full movie. But that said, there’s tons of great pieces in there that would be relevant today - modern charismatic billionaire offering to do what should be public services, aka Elon Musk always offering to save the day? Great theme. Gala Brand being into Bond but then not doing anything because she’s married? Great theme if they decide they want to tone down Bonds womanizing. Missile base at the White cliffs of Dover? Fantastic climax setting. But it’d need another set piece or act to truly make it a full length movie.</td>\n",
       "      <td>2023-03-22 15:17:01+00:00</td>\n",
       "    </tr>\n",
       "  </tbody>\n",
       "</table>\n",
       "</div>"
      ],
      "text/plain": [
       "          type           author                                                                                                                                                                                                                                                                                                                                                                                                                                                                                                                                                                                                                                                                                                                                                                                                                                                text                    created\n",
       "68058  Comment  Fair_Waltz_5535                                                                                                                                                                                                                                                                                                                                                                                                                                                                                                                                                                                                                                                                                                                  Ugh! Conservatives lack originality! Musk’s done it so now they want to mimic a spoiled billionaire throwing tantrum at news media  2023-04-13 17:12:04+00:00\n",
       "4085   Comment     PFG123456789                                                                                                                                                                                                                                                                                                                                                                                                                                                                                                                                                                                                                                                                                                                                                                                                                   This picture of Musk is perfect 🤣  2023-02-03 17:44:20+00:00\n",
       "75453  Comment       _DARVON_AI                                                                                                                                                                                                                                                                                                                                                                                                                                                                                                                                                                                                                                                                                                                                                                 ***Elon Musk: Greatest Man Alive***\\n\\nhttps://existentialcomics.com/comic/other/17  2023-04-21 18:46:38+00:00\n",
       "81750  Comment     handsomeslug                                                                                                                                                                                                                                                                                                                                                                                                                                                                                                                                                                                                                        I think Elon Musk is a piece of shit. People can be successful and pieces of shits. It's almost sad how you guys have convinced yourselves that this man made 200 billion dollars and on the way he never had any successes.  2023-04-28 15:50:00+00:00\n",
       "46433  Comment   Last_Fact_3044  I think it could be done, BUT it would need more scenes and action added. If it was a TRUE adaptation, the story would be\\n\\n- Bond plays cards \\n\\n- Bond investigated a guy\\n\\n- The cliffs get collapsed on them\\n\\n- There’s a car chase \\n\\n- They stop the missile\\n\\nWhich isn’t enough for a full movie. But that said, there’s tons of great pieces in there that would be relevant today - modern charismatic billionaire offering to do what should be public services, aka Elon Musk always offering to save the day? Great theme. Gala Brand being into Bond but then not doing anything because she’s married? Great theme if they decide they want to tone down Bonds womanizing. Missile base at the White cliffs of Dover? Fantastic climax setting. But it’d need another set piece or act to truly make it a full length movie.  2023-03-22 15:17:01+00:00"
      ]
     },
     "execution_count": 124,
     "metadata": {},
     "output_type": "execute_result"
    }
   ],
   "source": [
    "import pandas as pd\n",
    "pd.set_option('display.max_columns', None)\n",
    "pd.set_option('display.expand_frame_repr', False)\n",
    "pd.set_option('max_colwidth', None)\n",
    "\n",
    "musk_df = pd.read_csv('musk.csv', index_col=0)\n",
    "musk_df.sample(5)"
   ]
  },
  {
   "cell_type": "code",
   "execution_count": 125,
   "metadata": {},
   "outputs": [
    {
     "data": {
      "text/plain": [
       "Comment                      61620\n",
       "2023-04-30 15:47:51+00:00        1\n",
       "Name: type, dtype: int64"
      ]
     },
     "execution_count": 125,
     "metadata": {},
     "output_type": "execute_result"
    }
   ],
   "source": [
    "musk_df['type'].value_counts()"
   ]
  },
  {
   "cell_type": "code",
   "execution_count": 126,
   "metadata": {},
   "outputs": [],
   "source": [
    "musk_df.drop('type', axis=1, inplace=True)"
   ]
  },
  {
   "cell_type": "code",
   "execution_count": 127,
   "metadata": {},
   "outputs": [],
   "source": [
    "TEXTS_COL_NAME = 'text'"
   ]
  },
  {
   "cell_type": "code",
   "execution_count": 128,
   "metadata": {},
   "outputs": [
    {
     "data": {
      "text/plain": [
       "(61619, 61619)"
      ]
     },
     "execution_count": 128,
     "metadata": {},
     "output_type": "execute_result"
    }
   ],
   "source": [
    "def remove_duplicates_and_na(df: pd.DataFrame) -> pd.DataFrame:\n",
    "    df.dropna(inplace=True)\n",
    "    df.drop_duplicates(inplace=True)\n",
    "    return df\n",
    "\n",
    "musk_df_clean = remove_duplicates_and_na(musk_df)\n",
    "musk_df.shape[0], musk_df_clean.shape[0]"
   ]
  },
  {
   "cell_type": "code",
   "execution_count": 129,
   "metadata": {},
   "outputs": [
    {
     "data": {
      "text/plain": [
       "0                                                                                                                                                                                                                                                                                                                                                                                                                                                                                                                                                                                                                                                                   i had been on twitter prior to the musk takeover. but i’m talking more about directly to the news source. shouting on twitter/facebook/reddit gets notice inside the industry, but until a major media outlet picks up the story (which we all have plenty of examples off) we are going nowhere with this. \\n\\nof note, i’m still on regular contact with the nyt about the issues and will bring up to them at next discussion.\n",
       "2                                                                                                                                                                                                                                                                                                                                                                                                                                                                                                                                                                          that article does not say what you imply at all. it only states that the feature turns off before crashes. which tesla admits is default behavior and has never tried to hide. hence the whole counting as a crash if disengaged within 5 seconds of a crash. the article does say it brings into question the times musk said the feature was off. it does not give any proof that the times musk said it was off were in fact referring to crashes where it turned off right before the crash. it's speculation at best.\n",
       "3                                                                                                                                                                                                                                                                                                                                                                                                                                                                                                                                                                                                                                                                                                                                                                                                                                                                                                                                                                                                                                                                  the og musk duck lives on my wall.\n",
       "4                                                                                                                                                                                                                                                                                                                                                                                                                                                                                                                                                                                                                                                                                                                                                                                                                                                                                                                                                                                          how dare he speak that way to the great and powerful musk. it’s obviously the driver’s fault for steering.\n",
       "5                                                                                                                                                                                                                                                                                                                                                                                                                                                                                                                                                                                                                                                                                                                                                                                                                                                                                                                                                                                                                 can’t wait to finally have an excuse not to shower and douche. musk4musktopocalypse\n",
       "                                                                                                                                                                                                                                                                                                                                                                                                                                                                                                                                                     ...                                                                                                                                                                                                                                                                                                                                                                                                                                                                                                                                             \n",
       "85215                                                                                                                                                                                                                                                                                                                                                                                                                                                                                                                                                                                                                                                                                                                                                                                                                                                                                                                                                                                               like brain dead piranhas lmao, anything barely relating to musk that isn’t blind hate is devoured\n",
       "85221                                                                                                                                                                                                                                                                                                                                                                                                                                                                                                                                                                                                                                                                                                                                                                 what am i lying about? what's my agenda? please correct my errors if you can. was anything i said wrong?\\n\\ni was just informed i don't know anything about rocketry history for claiming the saturn v never exploded. i was unaware it had. please correct me wherever you can.\\n\\ni'm also not interested in mr. musk, sorry.\n",
       "85223                                                                                                                                                                                                                                                                                                                                                                                                                                    hard disagree. i don't think he's a parody of elon musk. sure there are tendencies, but this is a show about billionaires and writers will always punch up character traits/ actions with over the top actions. succession is now famous for taking real life events and molding and merger them into a narrative for the show. \\n\\nmattson is shown, over and over again, as legitimately intelligent. hasn't made a single real mistake that cost him. and most importantly, has shown logan like tendencies when it comes to business and reading people.\\n\\ni really don't understand how people don't see it. it's like we're watching different shows.\n",
       "85224    yeah. i think too many things are lining up right now. on a smaller scale musk could distort it *somehow*, but with sites state + resulting debris + full on losing control *and* flight termination delay + mishap grounding + scs recent success + elon being directly tied to issues with the launch, it’s a **lot** to try to push back. \\n\\neverything that you try to deal with individually collapses in context of the next. i guarantee musk will be applying insane amounts of pressure to try to rush repairing site + ending investigation, because it’s likely to be a **serious fucking problem** for space x if they can’t find some way to minimize it or eek out some tiny win. \\n\\nright now their best seems to be something along the lines of ‘uh yeah we used the older booster that has a lot identified and fixed problems, don’t worry the new booster is better’. but even then musk can’t generate any a bit hype: this was a \"50% chance of making it off the platform\", the next launch is just \"better than 50%\", **and** they dont have a platform right now.\n",
       "85225                                                                                                                                                                                                                                                                                                                                                                                                                                                                                                                                                                                                                                                                                                                                                                                                                                                                       good choice by musk. it is impossible to regulate on a level that would make everyone happy. the more they regulate, the more there users will use other platforms. just fight the bots and let the rest of twitter free.\n",
       "Name: text, Length: 61619, dtype: object"
      ]
     },
     "execution_count": 129,
     "metadata": {},
     "output_type": "execute_result"
    }
   ],
   "source": [
    "def to_lower(text: str) -> str:\n",
    "    return text.lower()\n",
    "\n",
    "musk_df_clean[TEXTS_COL_NAME] = musk_df_clean[TEXTS_COL_NAME].apply(to_lower)\n",
    "musk_df_clean[TEXTS_COL_NAME]"
   ]
  },
  {
   "cell_type": "code",
   "execution_count": 130,
   "metadata": {},
   "outputs": [],
   "source": [
    "from unidecode import unidecode\n",
    "\n",
    "def replace_to_unicode(text:str) -> str:\n",
    "    return unidecode(text)\n",
    "\n",
    "musk_df_clean[TEXTS_COL_NAME] = musk_df_clean[TEXTS_COL_NAME].apply(replace_to_unicode)"
   ]
  },
  {
   "cell_type": "code",
   "execution_count": 131,
   "metadata": {},
   "outputs": [],
   "source": [
    "import re\n",
    "\n",
    "def remove_urls(text: str) -> str:\n",
    "   return re.sub(r\"(www.[^\\s]+)|(https?:\\/\\/[^\\s]+)\", \"\", text)\n",
    "\n",
    "musk_df_clean[TEXTS_COL_NAME] = musk_df_clean[TEXTS_COL_NAME].apply(remove_urls)"
   ]
  },
  {
   "cell_type": "code",
   "execution_count": 132,
   "metadata": {},
   "outputs": [
    {
     "data": {
      "text/html": [
       "<div>\n",
       "<style scoped>\n",
       "    .dataframe tbody tr th:only-of-type {\n",
       "        vertical-align: middle;\n",
       "    }\n",
       "\n",
       "    .dataframe tbody tr th {\n",
       "        vertical-align: top;\n",
       "    }\n",
       "\n",
       "    .dataframe thead th {\n",
       "        text-align: right;\n",
       "    }\n",
       "</style>\n",
       "<table border=\"1\" class=\"dataframe\">\n",
       "  <thead>\n",
       "    <tr style=\"text-align: right;\">\n",
       "      <th></th>\n",
       "      <th>author</th>\n",
       "      <th>text</th>\n",
       "      <th>created</th>\n",
       "    </tr>\n",
       "  </thead>\n",
       "  <tbody>\n",
       "    <tr>\n",
       "      <th>3049</th>\n",
       "      <td>dogeater1612</td>\n",
       "      <td>how hard is it to find evidence on google do you have written statements from his dad supposed emerald mine his dad most likely owned shares of an emerald mine which doesn't actually mean he owned one that's  like i said me saying i own google cause i bought  stocks of it</td>\n",
       "      <td>2023-02-02 18:08:17+00:00</td>\n",
       "    </tr>\n",
       "    <tr>\n",
       "      <th>3689</th>\n",
       "      <td>simoncowbell</td>\n",
       "      <td>matt taibbi was handpicked by elon musk precisely because he has a bee in his bonnet about media coverage of russian disinformation stories there was no other report that was ever going to come from taibbi</td>\n",
       "      <td>2023-02-02 13:07:16+00:00</td>\n",
       "    </tr>\n",
       "    <tr>\n",
       "      <th>24098</th>\n",
       "      <td>FieryAnomaly</td>\n",
       "      <td>musk blowing perhaps</td>\n",
       "      <td>2023-02-25 13:24:19+00:00</td>\n",
       "    </tr>\n",
       "    <tr>\n",
       "      <th>80660</th>\n",
       "      <td>PoisonSnow</td>\n",
       "      <td>why not trust the science on this one ignore musk for a moment  rocketry engineers and astronauts are all praising the launch as a massive success and people who have no idea what they're talking about are making jokes because explosion  bad  you've overcompensated with your distrust of everything musk does and now you look silly because you're categorically wrong and being stubborn about it just to spite someone you dislike</td>\n",
       "      <td>2023-04-27 16:51:49+00:00</td>\n",
       "    </tr>\n",
       "    <tr>\n",
       "      <th>29347</th>\n",
       "      <td>nutmusk87</td>\n",
       "      <td>hot engorged head and dribbling piss hole  i'd love to huff the horny musk from your sweaty bush and lick the pre from your tip</td>\n",
       "      <td>2023-03-02 13:47:25+00:00</td>\n",
       "    </tr>\n",
       "    <tr>\n",
       "      <th>62271</th>\n",
       "      <td>original_sh4rpie</td>\n",
       "      <td>bro you just unironically defended nazis wtf  gtnonetheless i have worded my musk example wrong after being given  billion dollars that were gained by nonethical methods turning them to  billions is commendable and you can not take that away  your premises are unsubstantiated thus your conclusion is invalid please show  how monies were gained ethically and  any evidence that amassing that sum of money is laudable  gtthe skill is commendable  you've provided no argument for this statement</td>\n",
       "      <td>2023-04-07 15:13:16+00:00</td>\n",
       "    </tr>\n",
       "    <tr>\n",
       "      <th>57831</th>\n",
       "      <td>PlusFall5285</td>\n",
       "      <td>elon musk is fueling a cult</td>\n",
       "      <td>2023-04-03 18:43:36+00:00</td>\n",
       "    </tr>\n",
       "    <tr>\n",
       "      <th>47785</th>\n",
       "      <td>_Ice_Rider_</td>\n",
       "      <td>how about that elon musk</td>\n",
       "      <td>2023-03-23 13:33:31+00:00</td>\n",
       "    </tr>\n",
       "    <tr>\n",
       "      <th>53013</th>\n",
       "      <td>Diapolis</td>\n",
       "      <td>musk has been calling for ubi for years</td>\n",
       "      <td>2023-03-29 18:20:07+00:00</td>\n",
       "    </tr>\n",
       "    <tr>\n",
       "      <th>44832</th>\n",
       "      <td>Go_easy</td>\n",
       "      <td>except that ford actually designed the modelt do you understand the difference musk is a financier he doesn't engineer anything that's what i've been trying to explain this entire time and i can't tell if you don't understand or don't want to at this point he did not start spacex or tesla in his garage he's like m hundreds of inventions but no credit to the actual engineering team</td>\n",
       "      <td>2023-03-18 14:13:51+00:00</td>\n",
       "    </tr>\n",
       "  </tbody>\n",
       "</table>\n",
       "</div>"
      ],
      "text/plain": [
       "                 author                                                                                                                                                                                                                                                                                                                                                                                                                                                                                                          text                    created\n",
       "3049       dogeater1612                                                                                                                                                                                                                              how hard is it to find evidence on google do you have written statements from his dad supposed emerald mine his dad most likely owned shares of an emerald mine which doesn't actually mean he owned one that's  like i said me saying i own google cause i bought  stocks of it  2023-02-02 18:08:17+00:00\n",
       "3689       simoncowbell                                                                                                                                                                                                                                                                                                 matt taibbi was handpicked by elon musk precisely because he has a bee in his bonnet about media coverage of russian disinformation stories there was no other report that was ever going to come from taibbi  2023-02-02 13:07:16+00:00\n",
       "24098      FieryAnomaly                                                                                                                                                                                                                                                                                                                                                                                                                                                                                          musk blowing perhaps  2023-02-25 13:24:19+00:00\n",
       "80660        PoisonSnow                                                                  why not trust the science on this one ignore musk for a moment  rocketry engineers and astronauts are all praising the launch as a massive success and people who have no idea what they're talking about are making jokes because explosion  bad  you've overcompensated with your distrust of everything musk does and now you look silly because you're categorically wrong and being stubborn about it just to spite someone you dislike  2023-04-27 16:51:49+00:00\n",
       "29347         nutmusk87                                                                                                                                                                                                                                                                                                                                                                               hot engorged head and dribbling piss hole  i'd love to huff the horny musk from your sweaty bush and lick the pre from your tip  2023-03-02 13:47:25+00:00\n",
       "62271  original_sh4rpie  bro you just unironically defended nazis wtf  gtnonetheless i have worded my musk example wrong after being given  billion dollars that were gained by nonethical methods turning them to  billions is commendable and you can not take that away  your premises are unsubstantiated thus your conclusion is invalid please show  how monies were gained ethically and  any evidence that amassing that sum of money is laudable  gtthe skill is commendable  you've provided no argument for this statement  2023-04-07 15:13:16+00:00\n",
       "57831      PlusFall5285                                                                                                                                                                                                                                                                                                                                                                                                                                                                                  elon musk is fueling a cult   2023-04-03 18:43:36+00:00\n",
       "47785       _Ice_Rider_                                                                                                                                                                                                                                                                                                                                                                                                                                                                                      how about that elon musk  2023-03-23 13:33:31+00:00\n",
       "53013          Diapolis                                                                                                                                                                                                                                                                                                                                                                                                                                                                       musk has been calling for ubi for years  2023-03-29 18:20:07+00:00\n",
       "44832           Go_easy                                                                                                               except that ford actually designed the modelt do you understand the difference musk is a financier he doesn't engineer anything that's what i've been trying to explain this entire time and i can't tell if you don't understand or don't want to at this point he did not start spacex or tesla in his garage he's like m hundreds of inventions but no credit to the actual engineering team  2023-03-18 14:13:51+00:00"
      ]
     },
     "execution_count": 132,
     "metadata": {},
     "output_type": "execute_result"
    }
   ],
   "source": [
    "def normalize_text(text: str) -> str:\n",
    "    text = text.strip()\n",
    "    text = text.replace('\\n', ' ')\n",
    "    if not isinstance(text, str):\n",
    "        print(type(text))\n",
    "    matches = re.findall(r\"[a-zA-Z\\s']+\", text)\n",
    "    return ''.join(matches)\n",
    "\n",
    "musk_df_clean[TEXTS_COL_NAME] = musk_df_clean[TEXTS_COL_NAME].apply(normalize_text)\n",
    "musk_df_clean.sample(10)"
   ]
  },
  {
   "cell_type": "code",
   "execution_count": 133,
   "metadata": {},
   "outputs": [],
   "source": [
    "def remove_gt(text: str) -> str:\n",
    "    text_without_gt = []\n",
    "    for word in text.split(' '):\n",
    "        if word != 'gt':\n",
    "            text_without_gt.append(word)\n",
    "    return \" \".join(text_without_gt)\n",
    "\n",
    "musk_df_clean[TEXTS_COL_NAME] = musk_df_clean[TEXTS_COL_NAME].apply(remove_gt)"
   ]
  },
  {
   "cell_type": "code",
   "execution_count": 134,
   "metadata": {},
   "outputs": [
    {
     "data": {
      "text/html": [
       "<div>\n",
       "<style scoped>\n",
       "    .dataframe tbody tr th:only-of-type {\n",
       "        vertical-align: middle;\n",
       "    }\n",
       "\n",
       "    .dataframe tbody tr th {\n",
       "        vertical-align: top;\n",
       "    }\n",
       "\n",
       "    .dataframe thead th {\n",
       "        text-align: right;\n",
       "    }\n",
       "</style>\n",
       "<table border=\"1\" class=\"dataframe\">\n",
       "  <thead>\n",
       "    <tr style=\"text-align: right;\">\n",
       "      <th></th>\n",
       "      <th>author</th>\n",
       "      <th>text</th>\n",
       "      <th>created</th>\n",
       "    </tr>\n",
       "  </thead>\n",
       "  <tbody>\n",
       "    <tr>\n",
       "      <th>14579</th>\n",
       "      <td>9cnse</td>\n",
       "      <td>rose is just elon musk</td>\n",
       "      <td>2023-02-14 13:21:39+00:00</td>\n",
       "    </tr>\n",
       "    <tr>\n",
       "      <th>43082</th>\n",
       "      <td>the-garden-gnome</td>\n",
       "      <td>it was already happening musk just accelerated the process  tesla thought it could bank on first mover advantage much longer than they could  evs are dropping dramatically in price and the weight of legacy makers entering the space at the model  level has really shown how basic the  actually is</td>\n",
       "      <td>2023-03-16 06:35:12+00:00</td>\n",
       "    </tr>\n",
       "    <tr>\n",
       "      <th>73071</th>\n",
       "      <td>deeseearr</td>\n",
       "      <td>true  he did have the brilliant idea of having paypal give a  credit card to anyone who wanted one no questions asked  would a complete idiot with no understanding of how finance worked do that  well twice</td>\n",
       "      <td>2023-04-18 16:52:49+00:00</td>\n",
       "    </tr>\n",
       "    <tr>\n",
       "      <th>64569</th>\n",
       "      <td>IIoWoII</td>\n",
       "      <td>the idea that musk does d chess with marketing and promotion is a toxic one that just perpetuates the geniusmyth</td>\n",
       "      <td>2023-04-09 12:10:57+00:00</td>\n",
       "    </tr>\n",
       "    <tr>\n",
       "      <th>83972</th>\n",
       "      <td>BtenaciousD</td>\n",
       "      <td>dumped it about a month ago and refuse to click on any tweets  fuck musk</td>\n",
       "      <td>2023-04-30 14:08:40+00:00</td>\n",
       "    </tr>\n",
       "    <tr>\n",
       "      <th>20198</th>\n",
       "      <td>Yeomanroach</td>\n",
       "      <td>elon musk giving away bitcoin</td>\n",
       "      <td>2023-02-21 13:43:47+00:00</td>\n",
       "    </tr>\n",
       "    <tr>\n",
       "      <th>61302</th>\n",
       "      <td>jennyfromtheblock777</td>\n",
       "      <td>really though it is fine if you believe the system created jeff bezos elon musk bill gates warren buffet you think the system formed them fine blame the system   but these folks are using the system not the other way around if you do not like these folks and you do not like corporations and the folks running them that is ok but how is the system producing these things absent of the human condition you act like if capitalism was gone collapse would t still happen lol stop looking at everything through economic lenses only</td>\n",
       "      <td>2023-04-06 14:24:01+00:00</td>\n",
       "    </tr>\n",
       "    <tr>\n",
       "      <th>80658</th>\n",
       "      <td>GraMalychPrzewag</td>\n",
       "      <td>the effectiveness of marketing especially the impact of data and the ai on the effectiveness of online marketing is massively overhyped to put it into perspective you know how musk is promising those selfdriving cars will be there next year every year since  we make just as unreasonable promises but it is easier to spot a car that crushed than a campaign that crushed when push comes to shove our preciselytargeteddatabasedaienhanced campaigns are only marginally more effective than standing on the corner and shouting and everybody believes the hype imagine that you are engineer and every day you hear where is my selfdriving car dude everyone else has is  your main source of knowledge is companies that take money from you google facebook hubspot  those do not have your best interest in hart they were caught in questionable practices multiple times yet they create industry standards   even the janitor in your company thinks he how to do your job better  your boss is sure how to do it despite not knowing the basics  i never saw a seo report without misleading graphs data manipulation is the industry standard   real statisticians are throwing up in their mouths when they see what we call datadriven we do not know the basics do not believe me next time someone tells you about abtest ask them what is a pvalue or what is their alpha  fraud is common   capable people work shouldertoshoulder with people whose only skill is forwarding emails   it is a meaningless job that does not add value to the world at all</td>\n",
       "      <td>2023-04-27 16:52:01+00:00</td>\n",
       "    </tr>\n",
       "    <tr>\n",
       "      <th>35062</th>\n",
       "      <td>benjira07</td>\n",
       "      <td>elon musk inferior</td>\n",
       "      <td>2023-03-08 16:34:41+00:00</td>\n",
       "    </tr>\n",
       "    <tr>\n",
       "      <th>65783</th>\n",
       "      <td>FireBeyond</td>\n",
       "      <td>musk wanted to use windows and asp confinity had built a working pocprototype in java under solaris neither of which musk knew so he spent four months insisting that they throw away the working code to rewrite it in something he knew until thiel and the board shut that down</td>\n",
       "      <td>2023-04-11 17:53:05+00:00</td>\n",
       "    </tr>\n",
       "  </tbody>\n",
       "</table>\n",
       "</div>"
      ],
      "text/plain": [
       "                     author                                                                                                                                                                                                                                                                                                                                                                                                                                                                                                                                                                                                                                                                                                                                                                                                                                                                                                                                                                                                                                                                                                                                                                                                                                                                                                                                                                                                                                                                                                                                                                                   text                    created\n",
       "14579                 9cnse                                                                                                                                                                                                                                                                                                                                                                                                                                                                                                                                                                                                                                                                                                                                                                                                                                                                                                                                                                                                                                                                                                                                                                                                                                                                                                                                                                                                                                                                                                                                                                 rose is just elon musk  2023-02-14 13:21:39+00:00\n",
       "43082      the-garden-gnome                                                                                                                                                                                                                                                                                                                                                                                                                                                                                                                                                                                                                                                                                                                                                                                                                                                                                                                                                                                                                                                                                                                                                                                                                                                                                it was already happening musk just accelerated the process  tesla thought it could bank on first mover advantage much longer than they could  evs are dropping dramatically in price and the weight of legacy makers entering the space at the model  level has really shown how basic the  actually is  2023-03-16 06:35:12+00:00\n",
       "73071             deeseearr                                                                                                                                                                                                                                                                                                                                                                                                                                                                                                                                                                                                                                                                                                                                                                                                                                                                                                                                                                                                                                                                                                                                                                                                                                                                                                                                                                          true  he did have the brilliant idea of having paypal give a  credit card to anyone who wanted one no questions asked  would a complete idiot with no understanding of how finance worked do that  well twice  2023-04-18 16:52:49+00:00\n",
       "64569               IIoWoII                                                                                                                                                                                                                                                                                                                                                                                                                                                                                                                                                                                                                                                                                                                                                                                                                                                                                                                                                                                                                                                                                                                                                                                                                                                                                                                                                                                                                                                                       the idea that musk does d chess with marketing and promotion is a toxic one that just perpetuates the geniusmyth  2023-04-09 12:10:57+00:00\n",
       "83972           BtenaciousD                                                                                                                                                                                                                                                                                                                                                                                                                                                                                                                                                                                                                                                                                                                                                                                                                                                                                                                                                                                                                                                                                                                                                                                                                                                                                                                                                                                                                                                                                                               dumped it about a month ago and refuse to click on any tweets  fuck musk  2023-04-30 14:08:40+00:00\n",
       "20198           Yeomanroach                                                                                                                                                                                                                                                                                                                                                                                                                                                                                                                                                                                                                                                                                                                                                                                                                                                                                                                                                                                                                                                                                                                                                                                                                                                                                                                                                                                                                                                                                                                                                          elon musk giving away bitcoin  2023-02-21 13:43:47+00:00\n",
       "61302  jennyfromtheblock777                                                                                                                                                                                                                                                                                                                                                                                                                                                                                                                                                                                                                                                                                                                                                                                                                                                                                                                                                                                                                                         really though it is fine if you believe the system created jeff bezos elon musk bill gates warren buffet you think the system formed them fine blame the system   but these folks are using the system not the other way around if you do not like these folks and you do not like corporations and the folks running them that is ok but how is the system producing these things absent of the human condition you act like if capitalism was gone collapse would t still happen lol stop looking at everything through economic lenses only  2023-04-06 14:24:01+00:00\n",
       "80658      GraMalychPrzewag   the effectiveness of marketing especially the impact of data and the ai on the effectiveness of online marketing is massively overhyped to put it into perspective you know how musk is promising those selfdriving cars will be there next year every year since  we make just as unreasonable promises but it is easier to spot a car that crushed than a campaign that crushed when push comes to shove our preciselytargeteddatabasedaienhanced campaigns are only marginally more effective than standing on the corner and shouting and everybody believes the hype imagine that you are engineer and every day you hear where is my selfdriving car dude everyone else has is  your main source of knowledge is companies that take money from you google facebook hubspot  those do not have your best interest in hart they were caught in questionable practices multiple times yet they create industry standards   even the janitor in your company thinks he how to do your job better  your boss is sure how to do it despite not knowing the basics  i never saw a seo report without misleading graphs data manipulation is the industry standard   real statisticians are throwing up in their mouths when they see what we call datadriven we do not know the basics do not believe me next time someone tells you about abtest ask them what is a pvalue or what is their alpha  fraud is common   capable people work shouldertoshoulder with people whose only skill is forwarding emails   it is a meaningless job that does not add value to the world at all  2023-04-27 16:52:01+00:00\n",
       "35062             benjira07                                                                                                                                                                                                                                                                                                                                                                                                                                                                                                                                                                                                                                                                                                                                                                                                                                                                                                                                                                                                                                                                                                                                                                                                                                                                                                                                                                                                                                                                                                                                                                     elon musk inferior  2023-03-08 16:34:41+00:00\n",
       "65783            FireBeyond                                                                                                                                                                                                                                                                                                                                                                                                                                                                                                                                                                                                                                                                                                                                                                                                                                                                                                                                                                                                                                                                                                                                                                                                                                                                                                     musk wanted to use windows and asp confinity had built a working pocprototype in java under solaris neither of which musk knew so he spent four months insisting that they throw away the working code to rewrite it in something he knew until thiel and the board shut that down  2023-04-11 17:53:05+00:00"
      ]
     },
     "execution_count": 134,
     "metadata": {},
     "output_type": "execute_result"
    }
   ],
   "source": [
    "import contractions\n",
    "\n",
    "def replace_contractions(text: str) -> str:\n",
    "    return contractions.fix(text)\n",
    "\n",
    "musk_df_clean[TEXTS_COL_NAME] = musk_df_clean[TEXTS_COL_NAME].apply(replace_contractions)\n",
    "musk_df_clean.sample(10)"
   ]
  },
  {
   "cell_type": "code",
   "execution_count": 135,
   "metadata": {},
   "outputs": [
    {
     "data": {
      "text/plain": [
       "<spacy_langdetect.spacy_langdetect.LanguageDetector at 0x7f22c4de89a0>"
      ]
     },
     "execution_count": 135,
     "metadata": {},
     "output_type": "execute_result"
    }
   ],
   "source": [
    "import spacy\n",
    "from spacy.language import Language\n",
    "from spacy_langdetect import LanguageDetector\n",
    "\n",
    "@Language.factory('language_detector')\n",
    "def get_lang_detector(nlp, name):\n",
    "    return LanguageDetector()\n",
    "\n",
    "nlp = spacy.load('en_core_web_md', disable=['ner', 'parser'])\n",
    "nlp.add_pipe('sentencizer')\n",
    "nlp.add_pipe('language_detector')"
   ]
  },
  {
   "cell_type": "code",
   "execution_count": 136,
   "metadata": {},
   "outputs": [
    {
     "data": {
      "text/plain": [
       "61619"
      ]
     },
     "execution_count": 136,
     "metadata": {},
     "output_type": "execute_result"
    }
   ],
   "source": [
    "musk_df_clean.shape[0]"
   ]
  },
  {
   "cell_type": "code",
   "execution_count": 137,
   "metadata": {},
   "outputs": [],
   "source": [
    "def remove_rows_with_non_english_texts(df: pd.DataFrame) -> pd.DataFrame:\n",
    "    rows_with_eng_texts_indices = []\n",
    "    for i, text in df.iterrows():\n",
    "        doc = nlp(text[TEXTS_COL_NAME])\n",
    "        if doc._.language['language'] == 'en':\n",
    "            rows_with_eng_texts_indices.append(i)\n",
    "    return df.loc[rows_with_eng_texts_indices]\n",
    "\n",
    "musk_df_clean = remove_rows_with_non_english_texts(musk_df_clean)"
   ]
  },
  {
   "cell_type": "code",
   "execution_count": 138,
   "metadata": {},
   "outputs": [
    {
     "data": {
      "text/plain": [
       "55885"
      ]
     },
     "execution_count": 138,
     "metadata": {},
     "output_type": "execute_result"
    }
   ],
   "source": [
    "musk_df_clean.shape[0]"
   ]
  },
  {
   "cell_type": "code",
   "execution_count": 139,
   "metadata": {},
   "outputs": [],
   "source": [
    "def remove_stop_words(text: str) -> str:\n",
    "    text_without_stop_words = []\n",
    "    for word in text.split(' '):\n",
    "        if word not in nlp.Defaults.stop_words:\n",
    "            text_without_stop_words.append(word)\n",
    "    return \" \".join(text_without_stop_words)\n",
    "\n",
    "musk_df_clean[TEXTS_COL_NAME] = musk_df_clean[TEXTS_COL_NAME].apply(remove_stop_words)"
   ]
  },
  {
   "cell_type": "code",
   "execution_count": 140,
   "metadata": {},
   "outputs": [],
   "source": [
    "def lemmatize(text: str) -> str:\n",
    "    text_lemmatized = []\n",
    "    for word in nlp(text):\n",
    "        text_lemmatized.append(word.lemma_)\n",
    "    return \" \".join(text_lemmatized)\n",
    "\n",
    "musk_df_clean[TEXTS_COL_NAME] = musk_df_clean[TEXTS_COL_NAME].apply(lemmatize)"
   ]
  },
  {
   "cell_type": "code",
   "execution_count": 141,
   "metadata": {},
   "outputs": [],
   "source": [
    "def split_text(text: str) -> str:\n",
    "    split_text = []\n",
    "    for word in text.split(' '):\n",
    "        if word:\n",
    "            split_text.append(word)\n",
    "    return split_text\n",
    "\n",
    "musk_df_clean[TEXTS_COL_NAME] = musk_df_clean[TEXTS_COL_NAME].apply(split_text)"
   ]
  },
  {
   "cell_type": "code",
   "execution_count": 142,
   "metadata": {},
   "outputs": [
    {
     "data": {
      "text/html": [
       "<div>\n",
       "<style scoped>\n",
       "    .dataframe tbody tr th:only-of-type {\n",
       "        vertical-align: middle;\n",
       "    }\n",
       "\n",
       "    .dataframe tbody tr th {\n",
       "        vertical-align: top;\n",
       "    }\n",
       "\n",
       "    .dataframe thead th {\n",
       "        text-align: right;\n",
       "    }\n",
       "</style>\n",
       "<table border=\"1\" class=\"dataframe\">\n",
       "  <thead>\n",
       "    <tr style=\"text-align: right;\">\n",
       "      <th></th>\n",
       "      <th>author</th>\n",
       "      <th>text</th>\n",
       "      <th>created</th>\n",
       "    </tr>\n",
       "  </thead>\n",
       "  <tbody>\n",
       "    <tr>\n",
       "      <th>32807</th>\n",
       "      <td>Admirable_Remove6824</td>\n",
       "      <td>[musk, create, invest, business, make]</td>\n",
       "      <td>2023-03-06 17:08:13+00:00</td>\n",
       "    </tr>\n",
       "    <tr>\n",
       "      <th>78122</th>\n",
       "      <td>5050Clown</td>\n",
       "      <td>[elon, musk, pay, stephen, king, traffic, king, generate, twitter, stephen, king, professional, writer, write, tiny, blurb, present, online, surround, ad, generate, money, twitter]</td>\n",
       "      <td>2023-04-23 15:46:42+00:00</td>\n",
       "    </tr>\n",
       "    <tr>\n",
       "      <th>44488</th>\n",
       "      <td>power78</td>\n",
       "      <td>[build, xcompaypal, money, sell, zip, fund, angel, investor, accurate, talk, emerald, mine, difficult, musk, money]</td>\n",
       "      <td>2023-03-18 16:23:55+00:00</td>\n",
       "    </tr>\n",
       "    <tr>\n",
       "      <th>14621</th>\n",
       "      <td>ZenOfPerkele</td>\n",
       "      <td>[guy, dislike, apple, job, group, musk, holmes, reason, job, actually, skilled, marketer, hype, man, like, plenty, reason, dislike, like, hate, deny, good, mainly, understand, sell, understand, image, head, company, stick, musk, holme, like, job, ', antijob, ', good, destroy, company, seek, lead, case, holme, reason, obvious, straight, conwoman, actual, product, case, musk, reason, delusionally, think, genius, fact, guy, bear, wealth, lucke, investment, think, make, supergenius]</td>\n",
       "      <td>2023-02-14 12:52:30+00:00</td>\n",
       "    </tr>\n",
       "    <tr>\n",
       "      <th>77312</th>\n",
       "      <td>9trystan9</td>\n",
       "      <td>[elon, musk, proud, launch, thank, technician]</td>\n",
       "      <td>2023-04-22 13:43:31+00:00</td>\n",
       "    </tr>\n",
       "    <tr>\n",
       "      <th>7392</th>\n",
       "      <td>gordo65</td>\n",
       "      <td>[boebert, post, comment, reply, mention, marjorie, taylorgreene, musk, 's, company, list, mtg, 's, contributor, boebert, 's]</td>\n",
       "      <td>2023-02-06 15:05:03+00:00</td>\n",
       "    </tr>\n",
       "    <tr>\n",
       "      <th>22110</th>\n",
       "      <td>Gay_Lord2020</td>\n",
       "      <td>[elon, musk, smart, josh, difference, elon, bear, rich]</td>\n",
       "      <td>2023-02-23 15:03:27+00:00</td>\n",
       "    </tr>\n",
       "    <tr>\n",
       "      <th>76411</th>\n",
       "      <td>Salty-Night5917</td>\n",
       "      <td>[fit, criterion, day, age, antichrist, elon, musk, like, love, commit, faith, probably, popular, person, world, definition, antichrist, believe, wonderful, want, lead]</td>\n",
       "      <td>2023-04-22 18:45:45+00:00</td>\n",
       "    </tr>\n",
       "    <tr>\n",
       "      <th>11275</th>\n",
       "      <td>iamnotaspy_either</td>\n",
       "      <td>[elon, musk, shed, tear]</td>\n",
       "      <td>2023-02-10 15:56:34+00:00</td>\n",
       "    </tr>\n",
       "    <tr>\n",
       "      <th>45432</th>\n",
       "      <td>braywarshawsky</td>\n",
       "      <td>[yoga, help, hockey, flexibility, lol, guess, gay, regardless, people, strong, dumb, opinion, platform, ignore, block, delete, twitter, begin, elon, musk, look, stressfree]</td>\n",
       "      <td>2023-03-21 15:52:51+00:00</td>\n",
       "    </tr>\n",
       "  </tbody>\n",
       "</table>\n",
       "</div>"
      ],
      "text/plain": [
       "                     author                                                                                                                                                                                                                                                                                                                                                                                                                                                                                                 text                    created\n",
       "32807  Admirable_Remove6824                                                                                                                                                                                                                                                                                                                                                                                                                                                               [musk, create, invest, business, make]  2023-03-06 17:08:13+00:00\n",
       "78122             5050Clown                                                                                                                                                                                                                                                                                                                 [elon, musk, pay, stephen, king, traffic, king, generate, twitter, stephen, king, professional, writer, write, tiny, blurb, present, online, surround, ad, generate, money, twitter]  2023-04-23 15:46:42+00:00\n",
       "44488               power78                                                                                                                                                                                                                                                                                                                                                                                  [build, xcompaypal, money, sell, zip, fund, angel, investor, accurate, talk, emerald, mine, difficult, musk, money]  2023-03-18 16:23:55+00:00\n",
       "14621          ZenOfPerkele  [guy, dislike, apple, job, group, musk, holmes, reason, job, actually, skilled, marketer, hype, man, like, plenty, reason, dislike, like, hate, deny, good, mainly, understand, sell, understand, image, head, company, stick, musk, holme, like, job, ', antijob, ', good, destroy, company, seek, lead, case, holme, reason, obvious, straight, conwoman, actual, product, case, musk, reason, delusionally, think, genius, fact, guy, bear, wealth, lucke, investment, think, make, supergenius]  2023-02-14 12:52:30+00:00\n",
       "77312             9trystan9                                                                                                                                                                                                                                                                                                                                                                                                                                                       [elon, musk, proud, launch, thank, technician]  2023-04-22 13:43:31+00:00\n",
       "7392                gordo65                                                                                                                                                                                                                                                                                                                                                                         [boebert, post, comment, reply, mention, marjorie, taylorgreene, musk, 's, company, list, mtg, 's, contributor, boebert, 's]  2023-02-06 15:05:03+00:00\n",
       "22110          Gay_Lord2020                                                                                                                                                                                                                                                                                                                                                                                                                                              [elon, musk, smart, josh, difference, elon, bear, rich]  2023-02-23 15:03:27+00:00\n",
       "76411       Salty-Night5917                                                                                                                                                                                                                                                                                                                              [fit, criterion, day, age, antichrist, elon, musk, like, love, commit, faith, probably, popular, person, world, definition, antichrist, believe, wonderful, want, lead]  2023-04-22 18:45:45+00:00\n",
       "11275     iamnotaspy_either                                                                                                                                                                                                                                                                                                                                                                                                                                                                             [elon, musk, shed, tear]  2023-02-10 15:56:34+00:00\n",
       "45432        braywarshawsky                                                                                                                                                                                                                                                                                                                         [yoga, help, hockey, flexibility, lol, guess, gay, regardless, people, strong, dumb, opinion, platform, ignore, block, delete, twitter, begin, elon, musk, look, stressfree]  2023-03-21 15:52:51+00:00"
      ]
     },
     "execution_count": 142,
     "metadata": {},
     "output_type": "execute_result"
    }
   ],
   "source": [
    "musk_df_clean.sample(10)"
   ]
  },
  {
   "cell_type": "code",
   "execution_count": 143,
   "metadata": {},
   "outputs": [],
   "source": [
    "musk_df_clean.to_csv('musk_clean.csv')"
   ]
  },
  {
   "cell_type": "code",
   "execution_count": null,
   "metadata": {},
   "outputs": [],
   "source": []
  }
 ],
 "metadata": {
  "kernelspec": {
   "display_name": "BigD",
   "language": "python",
   "name": "python3"
  },
  "language_info": {
   "codemirror_mode": {
    "name": "ipython",
    "version": 3
   },
   "file_extension": ".py",
   "mimetype": "text/x-python",
   "name": "python",
   "nbconvert_exporter": "python",
   "pygments_lexer": "ipython3",
   "version": "3.10.6"
  },
  "orig_nbformat": 4
 },
 "nbformat": 4,
 "nbformat_minor": 2
}
